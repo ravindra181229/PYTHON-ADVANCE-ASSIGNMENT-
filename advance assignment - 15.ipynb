{
 "cells": [
  {
   "cell_type": "code",
   "execution_count": 1,
   "id": "9bad6056",
   "metadata": {},
   "outputs": [
    {
     "data": {
      "text/plain": [
       "'walrus operator , positional only arguments and new syntax warnings '"
      ]
     },
     "execution_count": 1,
     "metadata": {},
     "output_type": "execute_result"
    }
   ],
   "source": [
    "#Q1\n",
    "'''walrus operator , positional only arguments and new syntax warnings '''"
   ]
  },
  {
   "cell_type": "code",
   "execution_count": 5,
   "id": "f6259606",
   "metadata": {},
   "outputs": [
    {
     "data": {
      "text/plain": [
       "'In Python, the term monkey patch refers to dynamic modifications of a class or module \\nwe can actually change the behavior of code at run-time'"
      ]
     },
     "execution_count": 5,
     "metadata": {},
     "output_type": "execute_result"
    }
   ],
   "source": [
    "#Q2\n",
    "'''In Python, the term monkey patch refers to dynamic modifications of a class or module \n",
    "we can actually change the behavior of code at run-time'''"
   ]
  },
  {
   "cell_type": "code",
   "execution_count": 11,
   "id": "017316ab",
   "metadata": {},
   "outputs": [
    {
     "data": {
      "text/plain": [
       "'a shallow copy constructs a new compound object and inserts references into the objects found in original\\na deep copy constructs a new compound object and then recursively inserts copies into the objects found in original'"
      ]
     },
     "execution_count": 11,
     "metadata": {},
     "output_type": "execute_result"
    }
   ],
   "source": [
    "#Q3\n",
    "'''a shallow copy constructs a new compound object and inserts references into the objects found in original\n",
    "a deep copy constructs a new compound object and then recursively inserts copies into the objects found in original'''"
   ]
  },
  {
   "cell_type": "code",
   "execution_count": 16,
   "id": "e8eb883c",
   "metadata": {},
   "outputs": [
    {
     "data": {
      "text/plain": [
       "'the highest possible length of an identifier is 79 characters'"
      ]
     },
     "execution_count": 16,
     "metadata": {},
     "output_type": "execute_result"
    }
   ],
   "source": [
    "#Q4\n",
    "'''the highest possible length of an identifier is 79 characters'''"
   ]
  },
  {
   "cell_type": "code",
   "execution_count": 15,
   "id": "11e2a228",
   "metadata": {},
   "outputs": [
    {
     "data": {
      "text/plain": [
       "'it is a single line specification for defining a generator\\nIt is to learn the syntax in order to write simple and readable code'"
      ]
     },
     "execution_count": 15,
     "metadata": {},
     "output_type": "execute_result"
    }
   ],
   "source": [
    "#Q5\n",
    "'''it is a single line specification for defining a generator\n",
    "It is to learn the syntax in order to write simple and readable code'''"
   ]
  },
  {
   "cell_type": "code",
   "execution_count": null,
   "id": "46b7532e",
   "metadata": {},
   "outputs": [],
   "source": []
  }
 ],
 "metadata": {
  "kernelspec": {
   "display_name": "Python 3",
   "language": "python",
   "name": "python3"
  },
  "language_info": {
   "codemirror_mode": {
    "name": "ipython",
    "version": 3
   },
   "file_extension": ".py",
   "mimetype": "text/x-python",
   "name": "python",
   "nbconvert_exporter": "python",
   "pygments_lexer": "ipython3",
   "version": "3.8.8"
  }
 },
 "nbformat": 4,
 "nbformat_minor": 5
}
