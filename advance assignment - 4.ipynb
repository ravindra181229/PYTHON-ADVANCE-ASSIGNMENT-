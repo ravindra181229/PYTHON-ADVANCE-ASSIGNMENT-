{
 "cells": [
  {
   "cell_type": "code",
   "execution_count": 7,
   "id": "8107a3b3",
   "metadata": {},
   "outputs": [
    {
     "data": {
      "text/plain": [
       "' __iter__ and __next__ \\n__iter__ returns the iterator object and is called start of the loop\\n__next__ method returns the next value and is called at each loop increment'"
      ]
     },
     "execution_count": 7,
     "metadata": {},
     "output_type": "execute_result"
    }
   ],
   "source": [
    "#Q1\n",
    "''' __iter__ and __next__ \n",
    "__iter__ returns the iterator object and is called start of the loop\n",
    "__next__ method returns the next value and is called at each loop increment'''"
   ]
  },
  {
   "cell_type": "code",
   "execution_count": 18,
   "id": "4b27bd16",
   "metadata": {},
   "outputs": [
    {
     "name": "stdout",
     "output_type": "stream",
     "text": [
      "lengthObject\n"
     ]
    },
    {
     "data": {
      "text/plain": [
       "'By overloading the (+) operator for the object class,\\nwe can move the complexity of the code that adds the LENGTH values into the object class itself,\\nand dramatically simplify the higher level code \\n'"
      ]
     },
     "execution_count": 18,
     "metadata": {},
     "output_type": "execute_result"
    }
   ],
   "source": [
    "#Q2\n",
    "print(\"lengthObject\")\n",
    "'''By overloading the (+) operator for the object class,\n",
    "we can move the complexity of the code that adds the LENGTH values into the object class itself,\n",
    "and dramatically simplify the higher level code \n",
    "'''"
   ]
  },
  {
   "cell_type": "code",
   "execution_count": 14,
   "id": "242f62b5",
   "metadata": {},
   "outputs": [
    {
     "data": {
      "text/plain": [
       "'\"setslice\" \"delslice\" and \"getslice\" are deprecated, \\nif you want to do the interception you can use \"__setitem__\" and \"__delitem__\"'"
      ]
     },
     "execution_count": 14,
     "metadata": {},
     "output_type": "execute_result"
    }
   ],
   "source": [
    "#Q3\n",
    "'''\"setslice\" \"delslice\" and \"getslice\" are deprecated, \n",
    "if you want to do the interception you can use \"__setitem__\" and \"__delitem__\"'''"
   ]
  },
  {
   "cell_type": "code",
   "execution_count": 13,
   "id": "995cdcf5",
   "metadata": {},
   "outputs": [
    {
     "data": {
      "text/plain": [
       "'by using \"iadd()\" : - it is used to assign and add the current value'"
      ]
     },
     "execution_count": 13,
     "metadata": {},
     "output_type": "execute_result"
    }
   ],
   "source": [
    "#Q4\n",
    "'''by using \"iadd()\" : - it is used to assign and add the current value'''"
   ]
  },
  {
   "cell_type": "code",
   "execution_count": 11,
   "id": "478ed5ac",
   "metadata": {},
   "outputs": [
    {
     "data": {
      "text/plain": [
       "\"we can use when '+' operator is overloaded by int class and str class\""
      ]
     },
     "execution_count": 11,
     "metadata": {},
     "output_type": "execute_result"
    }
   ],
   "source": [
    "#Q5\n",
    "'''we can use when '+' operator is overloaded by int class and str class'''"
   ]
  },
  {
   "cell_type": "code",
   "execution_count": null,
   "id": "78f9699b",
   "metadata": {},
   "outputs": [],
   "source": []
  }
 ],
 "metadata": {
  "kernelspec": {
   "display_name": "Python 3",
   "language": "python",
   "name": "python3"
  },
  "language_info": {
   "codemirror_mode": {
    "name": "ipython",
    "version": 3
   },
   "file_extension": ".py",
   "mimetype": "text/x-python",
   "name": "python",
   "nbconvert_exporter": "python",
   "pygments_lexer": "ipython3",
   "version": "3.8.8"
  }
 },
 "nbformat": 4,
 "nbformat_minor": 5
}
