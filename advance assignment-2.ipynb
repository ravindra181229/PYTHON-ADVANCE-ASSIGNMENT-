{
 "cells": [
  {
   "cell_type": "code",
   "execution_count": 12,
   "id": "f9f41355",
   "metadata": {},
   "outputs": [
    {
     "data": {
      "text/plain": [
       "'classes are templates for creating objects which contain variables and functions. \\nmodules are programs that can be imported into another program , modules are collection of methods and constants'"
      ]
     },
     "execution_count": 12,
     "metadata": {},
     "output_type": "execute_result"
    }
   ],
   "source": [
    "#Q1\n",
    "'''classes are templates for creating objects which contain variables and functions. \n",
    "modules are programs that can be imported into another program , modules are collection of methods and constants'''"
   ]
  },
  {
   "cell_type": "code",
   "execution_count": 13,
   "id": "ca836ea9",
   "metadata": {},
   "outputs": [
    {
     "data": {
      "text/plain": [
       "'we can call the class using class name and pass in __init__ methods in whatever arguments\\nan object is instance of class'"
      ]
     },
     "execution_count": 13,
     "metadata": {},
     "output_type": "execute_result"
    }
   ],
   "source": [
    "#Q2\n",
    "'''we can call the class using class name and pass in __init__ methods in whatever arguments\n",
    "an object is instance of class'''"
   ]
  },
  {
   "cell_type": "code",
   "execution_count": 5,
   "id": "5dd387dc",
   "metadata": {},
   "outputs": [
    {
     "data": {
      "text/plain": [
       "'we define the class attributes outside the methods ,they are placed at the top,\\nright below the class header'"
      ]
     },
     "execution_count": 5,
     "metadata": {},
     "output_type": "execute_result"
    }
   ],
   "source": [
    "#Q3\n",
    "'''we define the class attributes outside the methods ,they are placed at the top,\n",
    "right below the class header'''"
   ]
  },
  {
   "cell_type": "code",
   "execution_count": 6,
   "id": "dee46edd",
   "metadata": {},
   "outputs": [
    {
     "data": {
      "text/plain": [
       "'instance attributes are defined inside the object, it is defined directly inside the class\\nit is defined inside constructor function __init__(self) of the class'"
      ]
     },
     "execution_count": 6,
     "metadata": {},
     "output_type": "execute_result"
    }
   ],
   "source": [
    "#Q4\n",
    "'''instance attributes are defined inside the object, it is defined directly inside the class\n",
    "it is defined inside constructor function __init__(self) of the class'''"
   ]
  },
  {
   "cell_type": "code",
   "execution_count": 16,
   "id": "6e3df8f3",
   "metadata": {},
   "outputs": [
    {
     "data": {
      "text/plain": [
       "'the self represents or used to all the instances in a class'"
      ]
     },
     "execution_count": 16,
     "metadata": {},
     "output_type": "execute_result"
    }
   ],
   "source": [
    "#Q5\n",
    "\"the self represents or used to all the instances in a class\""
   ]
  },
  {
   "cell_type": "code",
   "execution_count": 14,
   "id": "e7b88840",
   "metadata": {},
   "outputs": [
    {
     "data": {
      "text/plain": [
       "'it provides some special functions that is automatically invoked when it is associated with particular operator'"
      ]
     },
     "execution_count": 14,
     "metadata": {},
     "output_type": "execute_result"
    }
   ],
   "source": [
    "#Q6\n",
    "\"it provides some special functions that is automatically invoked when it is associated with particular operator\""
   ]
  },
  {
   "cell_type": "code",
   "execution_count": 9,
   "id": "174d470c",
   "metadata": {},
   "outputs": [
    {
     "data": {
      "text/plain": [
       "\"it allows you to leave out the name of the function you are overloading.\\nIt also doesn't support adding additional criteria besides the ones specified via argument annotations.\""
      ]
     },
     "execution_count": 9,
     "metadata": {},
     "output_type": "execute_result"
    }
   ],
   "source": [
    "#Q7\n",
    "\"\"\"it allows you to leave out the name of the function you are overloading.\n",
    "It also doesn't support adding additional criteria besides the ones specified via argument annotations.\"\"\""
   ]
  },
  {
   "cell_type": "code",
   "execution_count": 15,
   "id": "f62778f3",
   "metadata": {},
   "outputs": [
    {
     "data": {
      "text/plain": [
       "'a popular operator overloading is Addition(+) operator\\nbecause it adds on numbers and performs concatenation operation on strings'"
      ]
     },
     "execution_count": 15,
     "metadata": {},
     "output_type": "execute_result"
    }
   ],
   "source": [
    "#Q8\n",
    "'''a popular operator overloading is Addition(+) operator\n",
    "because it adds on numbers and performs concatenation operation on strings'''"
   ]
  },
  {
   "cell_type": "code",
   "execution_count": 11,
   "id": "b5053030",
   "metadata": {},
   "outputs": [
    {
     "data": {
      "text/plain": [
       "'inheritance and polymorphism'"
      ]
     },
     "execution_count": 11,
     "metadata": {},
     "output_type": "execute_result"
    }
   ],
   "source": [
    "#Q9\n",
    "\"\"\"inheritance and polymorphism\"\"\""
   ]
  },
  {
   "cell_type": "code",
   "execution_count": null,
   "id": "4f74fb0a",
   "metadata": {},
   "outputs": [],
   "source": []
  }
 ],
 "metadata": {
  "kernelspec": {
   "display_name": "Python 3",
   "language": "python",
   "name": "python3"
  },
  "language_info": {
   "codemirror_mode": {
    "name": "ipython",
    "version": 3
   },
   "file_extension": ".py",
   "mimetype": "text/x-python",
   "name": "python",
   "nbconvert_exporter": "python",
   "pygments_lexer": "ipython3",
   "version": "3.8.8"
  }
 },
 "nbformat": 4,
 "nbformat_minor": 5
}
