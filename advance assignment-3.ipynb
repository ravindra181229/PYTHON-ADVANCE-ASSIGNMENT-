{
 "cells": [
  {
   "cell_type": "code",
   "execution_count": 5,
   "id": "8033b89c",
   "metadata": {},
   "outputs": [
    {
     "data": {
      "text/plain": [
       "\"it is a superclass for several subclasses\\nabstract classes cannot be instantiated and it requires subclasses to provide implementations for abstract method\\nabstract dosen't contain implementations\""
      ]
     },
     "execution_count": 5,
     "metadata": {},
     "output_type": "execute_result"
    }
   ],
   "source": [
    "#Q1\n",
    "'''it is a superclass for several subclasses\n",
    "abstract classes cannot be instantiated and it requires subclasses to provide implementations for abstract method\n",
    "abstract dosen't contain implementations'''"
   ]
  },
  {
   "cell_type": "code",
   "execution_count": 3,
   "id": "f77b08eb",
   "metadata": {},
   "outputs": [
    {
     "data": {
      "text/plain": [
       "'An assignment statement evaluates the expression list \\nand assigns the single resulting object to each of the target lists from left to right'"
      ]
     },
     "execution_count": 3,
     "metadata": {},
     "output_type": "execute_result"
    }
   ],
   "source": [
    "#Q2\n",
    "'''An assignment statement evaluates the expression list \n",
    "and assigns the single resulting object to each of the target lists from left to right'''"
   ]
  },
  {
   "cell_type": "code",
   "execution_count": 9,
   "id": "82a011e9",
   "metadata": {},
   "outputs": [
    {
     "data": {
      "text/plain": [
       "'because one needs to define something and that is not done in base class\\n__init__ is the only way to obtain, that is to put its execution in a derived class __init__ function'"
      ]
     },
     "execution_count": 9,
     "metadata": {},
     "output_type": "execute_result"
    }
   ],
   "source": [
    "#Q3\n",
    "'''because one needs to define something and that is not done in base class\n",
    "__init__ is the only way to obtain, that is to put its execution in a derived class __init__ function'''"
   ]
  },
  {
   "cell_type": "code",
   "execution_count": 10,
   "id": "838bdd9a",
   "metadata": {},
   "outputs": [
    {
     "data": {
      "text/plain": [
       "'we can use polymorphism'"
      ]
     },
     "execution_count": 10,
     "metadata": {},
     "output_type": "execute_result"
    }
   ],
   "source": [
    "#Q4\n",
    "'''we can use polymorphism'''"
   ]
  },
  {
   "cell_type": "code",
   "execution_count": 7,
   "id": "bd7036f5",
   "metadata": {},
   "outputs": [
    {
     "data": {
      "text/plain": [
       "\"declaring a variable in a class :- all class functions can access it , it is a public variable. it is outside of function\\ndeclaring a variable inside a function inside a class :- only that function can access it , it's in a function scope\""
      ]
     },
     "execution_count": 7,
     "metadata": {},
     "output_type": "execute_result"
    }
   ],
   "source": [
    "#Q5\n",
    "'''declaring a variable in a class :- all class functions can access it , it is a public variable. it is outside of function\n",
    "declaring a variable inside a function inside a class :- only that function can access it , it's in a function scope'''"
   ]
  },
  {
   "cell_type": "code",
   "execution_count": null,
   "id": "cea9e617",
   "metadata": {},
   "outputs": [],
   "source": []
  }
 ],
 "metadata": {
  "kernelspec": {
   "display_name": "Python 3",
   "language": "python",
   "name": "python3"
  },
  "language_info": {
   "codemirror_mode": {
    "name": "ipython",
    "version": 3
   },
   "file_extension": ".py",
   "mimetype": "text/x-python",
   "name": "python",
   "nbconvert_exporter": "python",
   "pygments_lexer": "ipython3",
   "version": "3.8.8"
  }
 },
 "nbformat": 4,
 "nbformat_minor": 5
}
