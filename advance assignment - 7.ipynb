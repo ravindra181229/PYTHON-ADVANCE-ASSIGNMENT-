{
 "cells": [
  {
   "cell_type": "code",
   "execution_count": 8,
   "id": "8124cfa7",
   "metadata": {},
   "outputs": [
    {
     "data": {
      "text/plain": [
       "\"it is used to catch exceptions that might be thrown as your program executes,\\nso that the program won't crash if exception occurs \""
      ]
     },
     "execution_count": 8,
     "metadata": {},
     "output_type": "execute_result"
    }
   ],
   "source": [
    "#Q1\n",
    "'''it is used to catch exceptions that might be thrown as your program executes,\n",
    "so that the program won't crash if exception occurs '''"
   ]
  },
  {
   "cell_type": "code",
   "execution_count": 10,
   "id": "4583f628",
   "metadata": {},
   "outputs": [
    {
     "data": {
      "text/plain": [
       "'syntax error\\nexceptions'"
      ]
     },
     "execution_count": 10,
     "metadata": {},
     "output_type": "execute_result"
    }
   ],
   "source": [
    "#Q2\n",
    "'''syntax error\n",
    "exceptions'''"
   ]
  },
  {
   "cell_type": "code",
   "execution_count": 3,
   "id": "c6007f70",
   "metadata": {},
   "outputs": [
    {
     "data": {
      "text/plain": [
       "'it allows the programmer to force a specific exception to occur ,raise statement can raise predefined exceptions'"
      ]
     },
     "execution_count": 3,
     "metadata": {},
     "output_type": "execute_result"
    }
   ],
   "source": [
    "#Q3\n",
    "'''it allows the programmer to force a specific exception to occur ,raise statement can raise predefined exceptions'''"
   ]
  },
  {
   "cell_type": "code",
   "execution_count": 11,
   "id": "a900fa96",
   "metadata": {},
   "outputs": [
    {
     "data": {
      "text/plain": [
       "'it checks wheather a condition is true or false\\nif it is true it keeps on running and if it is false than it will return assertion error'"
      ]
     },
     "execution_count": 11,
     "metadata": {},
     "output_type": "execute_result"
    }
   ],
   "source": [
    "#Q4\n",
    "'''it checks wheather a condition is true or false\n",
    "if it is true it keeps on running and if it is false than it will return assertion error'''"
   ]
  },
  {
   "cell_type": "code",
   "execution_count": 12,
   "id": "aa954342",
   "metadata": {},
   "outputs": [
    {
     "data": {
      "text/plain": [
       "'The with statement is used for resource management and exception handling\\nthe statement ensures that the file stream process doesn’t block other processes if an exception is raised'"
      ]
     },
     "execution_count": 12,
     "metadata": {},
     "output_type": "execute_result"
    }
   ],
   "source": [
    "#Q5\n",
    "'''The with statement is used for resource management and exception handling\n",
    "the statement ensures that the file stream process doesn’t block other processes if an exception is raised'''"
   ]
  },
  {
   "cell_type": "code",
   "execution_count": null,
   "id": "80054709",
   "metadata": {},
   "outputs": [],
   "source": []
  }
 ],
 "metadata": {
  "kernelspec": {
   "display_name": "Python 3",
   "language": "python",
   "name": "python3"
  },
  "language_info": {
   "codemirror_mode": {
    "name": "ipython",
    "version": 3
   },
   "file_extension": ".py",
   "mimetype": "text/x-python",
   "name": "python",
   "nbconvert_exporter": "python",
   "pygments_lexer": "ipython3",
   "version": "3.8.8"
  }
 },
 "nbformat": 4,
 "nbformat_minor": 5
}
