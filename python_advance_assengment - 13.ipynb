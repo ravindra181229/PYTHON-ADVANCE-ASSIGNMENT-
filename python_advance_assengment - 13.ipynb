{
 "cells": [
  {
   "cell_type": "markdown",
   "id": "589b47c5",
   "metadata": {},
   "source": [
    "# python_advance_assengment - 13"
   ]
  },
  {
   "cell_type": "code",
   "execution_count": 3,
   "id": "556783c7",
   "metadata": {},
   "outputs": [
    {
     "data": {
      "text/plain": [
       "'\\nIn Python, you can start indexing from the end of an iterable. \\nThis is known as negative indexing. This means you can use both positive and negative indexes to access iterables.\\n'"
      ]
     },
     "execution_count": 3,
     "metadata": {},
     "output_type": "execute_result"
    }
   ],
   "source": [
    "#Q1\n",
    "\"\"\"\n",
    "In Python, you can start indexing from the end of an iterable. \n",
    "This is known as negative indexing. This means you can use both positive and negative indexes to access iterables.\n",
    "\"\"\""
   ]
  },
  {
   "cell_type": "code",
   "execution_count": 7,
   "id": "b3dcbeda",
   "metadata": {},
   "outputs": [
    {
     "data": {
      "text/plain": [
       "'\\nThe following are some of the ways to initialize lists(we create lists of size 1000 and initialize with zeros) in Python.\\nUsing a for loop and append()\\nUsing a while loop with a counter variable\\nUsing list comprehensions\\nUsing the * operator.\\netc\\n'"
      ]
     },
     "execution_count": 7,
     "metadata": {},
     "output_type": "execute_result"
    }
   ],
   "source": [
    "#Q2\n",
    "\"\"\"\n",
    "The following are some of the ways to initialize lists(we create lists of size 1000 and initialize with zeros) in Python.\n",
    "Using a for loop and append()\n",
    "Using a while loop with a counter variable\n",
    "Using list comprehensions\n",
    "Using the * operator.\n",
    "etc\n",
    "\"\"\""
   ]
  },
  {
   "cell_type": "code",
   "execution_count": 10,
   "id": "b2e81a6c",
   "metadata": {},
   "outputs": [
    {
     "data": {
      "text/plain": [
       "'\\nConsider a python list, In-order to access a range of elements in a list, you need to slice a list.\\nOne way to do this is to use the simple slicing operator \\ni.e. colon(:) With this operator, one can specify where to start the slicing, where to end, and specify the step\\n'"
      ]
     },
     "execution_count": 10,
     "metadata": {},
     "output_type": "execute_result"
    }
   ],
   "source": [
    "#Q3\n",
    "\"\"\"\n",
    "Consider a python list, In-order to access a range of elements in a list, you need to slice a list.\n",
    "One way to do this is to use the simple slicing operator \n",
    "i.e. colon(:) With this operator, one can specify where to start the slicing, where to end, and specify the step\n",
    "\"\"\""
   ]
  },
  {
   "cell_type": "code",
   "execution_count": 14,
   "id": "9ea877ff",
   "metadata": {},
   "outputs": [
    {
     "data": {
      "text/plain": [
       "'\\nIndexing means referring to an element of an iterable by its position within the iterable.\\nSlicing means getting a subset of elements from an iterable based on their indices.\\n'"
      ]
     },
     "execution_count": 14,
     "metadata": {},
     "output_type": "execute_result"
    }
   ],
   "source": [
    "#Q4\n",
    "\"\"\"\n",
    "Indexing means referring to an element of an iterable by its position within the iterable.\n",
    "Slicing means getting a subset of elements from an iterable based on their indices.\n",
    "\"\"\""
   ]
  },
  {
   "cell_type": "code",
   "execution_count": 17,
   "id": "f3c1c594",
   "metadata": {},
   "outputs": [
    {
     "data": {
      "text/plain": [
       "\"\\nThe slicing operation doesn't raise an error if both your start and stop indices are larger than the sequence length.\\nif you index an element that is out of bounds, Python will throw an index out of bounds error.\\n\""
      ]
     },
     "execution_count": 17,
     "metadata": {},
     "output_type": "execute_result"
    }
   ],
   "source": [
    "#Q5\n",
    "\"\"\"\n",
    "The slicing operation doesn't raise an error if both your start and stop indices are larger than the sequence length.\n",
    "if you index an element that is out of bounds, Python will throw an index out of bounds error.\n",
    "\"\"\""
   ]
  },
  {
   "cell_type": "code",
   "execution_count": 38,
   "id": "2f22248e",
   "metadata": {},
   "outputs": [
    {
     "data": {
      "text/plain": [
       "\"\\npython's parameter is passed by object reference, and list is a mutable object, once you pass a list into function and change its element, the original one would be change too.\\n\""
      ]
     },
     "execution_count": 38,
     "metadata": {},
     "output_type": "execute_result"
    }
   ],
   "source": [
    "#Q6\n",
    "\"\"\"\n",
    "python's parameter is passed by object reference, and list is a mutable object, once you pass a list into function and change its element, the original one would be change too.\n",
    "\"\"\""
   ]
  },
  {
   "cell_type": "code",
   "execution_count": 21,
   "id": "76334478",
   "metadata": {},
   "outputs": [
    {
     "data": {
      "text/plain": [
       "'\\nWhenever the cost matrix of an assignment problem is not a square matrix.\\nthat is, whenever the number of sources is not equal to the number of destinations,\\nthis concept is known as unbalanced matrix\\n'"
      ]
     },
     "execution_count": 21,
     "metadata": {},
     "output_type": "execute_result"
    }
   ],
   "source": [
    "#Q7\n",
    "\"\"\"\n",
    "Whenever the cost matrix of an assignment problem is not a square matrix.\n",
    "that is, whenever the number of sources is not equal to the number of destinations,\n",
    "this concept is known as unbalanced matrix\n",
    "\"\"\""
   ]
  },
  {
   "cell_type": "code",
   "execution_count": 39,
   "id": "84f4a7c9",
   "metadata": {},
   "outputs": [
    {
     "data": {
      "text/plain": [
       "'\\nis it necessary to use either list comprehension or a loop to create arbitrarily large matrices because \\nList comprehension and loops in Python achieves this goal by simplifying the syntax necessary to perform complex statements in Python.\\n'"
      ]
     },
     "execution_count": 39,
     "metadata": {},
     "output_type": "execute_result"
    }
   ],
   "source": [
    "#Q8\n",
    "\"\"\"\n",
    "is it necessary to use either list comprehension or a loop to create arbitrarily large matrices because \n",
    "List comprehension and loops in Python achieves this goal by simplifying the syntax necessary to perform complex statements in Python.\n",
    "\"\"\""
   ]
  },
  {
   "cell_type": "code",
   "execution_count": null,
   "id": "4d951642",
   "metadata": {},
   "outputs": [],
   "source": []
  }
 ],
 "metadata": {
  "kernelspec": {
   "display_name": "Python 3 (ipykernel)",
   "language": "python",
   "name": "python3"
  },
  "language_info": {
   "codemirror_mode": {
    "name": "ipython",
    "version": 3
   },
   "file_extension": ".py",
   "mimetype": "text/x-python",
   "name": "python",
   "nbconvert_exporter": "python",
   "pygments_lexer": "ipython3",
   "version": "3.9.12"
  }
 },
 "nbformat": 4,
 "nbformat_minor": 5
}
