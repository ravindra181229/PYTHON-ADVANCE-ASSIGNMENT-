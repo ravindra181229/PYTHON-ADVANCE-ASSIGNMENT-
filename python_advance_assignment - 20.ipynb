{
 "cells": [
  {
   "cell_type": "markdown",
   "id": "8846bcef",
   "metadata": {},
   "source": [
    "# Pyhton_advance_assignment "
   ]
  },
  {
   "cell_type": "code",
   "execution_count": 3,
   "id": "703815e6",
   "metadata": {},
   "outputs": [
    {
     "data": {
      "text/plain": [
       "'\\nFloat stores an approximate value and decimal stores an exact value. \\nIn summary, exact values like money should use decimal, and approximate values like scientific measurements should use float.\\nWhen multiplying a non integer and dividing by that same number, decimals lose precision while floats do not\\n'"
      ]
     },
     "execution_count": 3,
     "metadata": {},
     "output_type": "execute_result"
    }
   ],
   "source": [
    "#Q1\n",
    "\"\"\"\n",
    "Float stores an approximate value and decimal stores an exact value. \n",
    "In summary, exact values like money should use decimal, and approximate values like scientific measurements should use float.\n",
    "When multiplying a non integer and dividing by that same number, decimals lose precision while floats do not\n",
    "\"\"\""
   ]
  },
  {
   "cell_type": "code",
   "execution_count": 30,
   "id": "09d0f395",
   "metadata": {},
   "outputs": [
    {
     "data": {
      "text/plain": [
       "\"\\nA decimal number can be defined as a number whose whole number part and the fractional part is separated by a decimal point.\\nThe dot in a decimal number is called a decimal point.\\nTherefore, Yes it is equal.\\n\\n1.2 is the same as 1.200 because all you did was add 2 0's, which doesn't change the value of anything.\\n\\nHence, It is 1.2 equal to 1.200\\n\""
      ]
     },
     "execution_count": 30,
     "metadata": {},
     "output_type": "execute_result"
    }
   ],
   "source": [
    "#Q2\n",
    "\"\"\"\n",
    "A decimal number can be defined as a number whose whole number part and the fractional part is separated by a decimal point.\n",
    "The dot in a decimal number is called a decimal point.\n",
    "Therefore, Yes it is equal.\n",
    "\n",
    "1.2 is the same as 1.200 because all you did was add 2 0's, which doesn't change the value of anything.\n",
    "\n",
    "Hence, It is 1.2 equal to 1.200\n",
    "\"\"\""
   ]
  },
  {
   "cell_type": "code",
   "execution_count": 6,
   "id": "1ff62c10",
   "metadata": {},
   "outputs": [
    {
     "data": {
      "text/plain": [
       "'\\nThough numerically equal, these two numbers differ in precision. 1.2 is precise upto 2 significant digits.\\nWe are uncertain about the third digit . 1.200 is precise upto 3 significant digits\\n'"
      ]
     },
     "execution_count": 6,
     "metadata": {},
     "output_type": "execute_result"
    }
   ],
   "source": [
    "#Q3\n",
    "\"\"\"\n",
    "Though numerically equal, these two numbers differ in precision. 1.2 is precise upto 2 significant digits.\n",
    "We are uncertain about the third digit . 1.200 is precise upto 3 significant digits\n",
    "\"\"\""
   ]
  },
  {
   "cell_type": "code",
   "execution_count": 9,
   "id": "06a74241",
   "metadata": {},
   "outputs": [
    {
     "data": {
      "text/plain": [
       "'\\nto eliminate any loss of precision or ambiguity in transfer.\\nConverting straight from a float causes our Decimal object to inherit all of the imprecision\\n'"
      ]
     },
     "execution_count": 9,
     "metadata": {},
     "output_type": "execute_result"
    }
   ],
   "source": [
    "#Q4\n",
    "\"\"\"\n",
    "to eliminate any loss of precision or ambiguity in transfer.\n",
    "Converting straight from a float causes our Decimal object to inherit all of the imprecision\n",
    "\"\"\""
   ]
  },
  {
   "cell_type": "code",
   "execution_count": 14,
   "id": "85ef5e8e",
   "metadata": {},
   "outputs": [
    {
     "data": {
      "text/plain": [
       "'\\nPython can do decimal calculations, too, approximately. \\nEven a number that is actually an integer can be represented in the float type if a decimal point is included\\n'"
      ]
     },
     "execution_count": 14,
     "metadata": {},
     "output_type": "execute_result"
    }
   ],
   "source": [
    "#Q5\n",
    "\"\"\"\n",
    "Python can do decimal calculations, too, approximately. \n",
    "Even a number that is actually an integer can be represented in the float type if a decimal point is included\n",
    "\"\"\""
   ]
  },
  {
   "cell_type": "code",
   "execution_count": 15,
   "id": "b0243794",
   "metadata": {},
   "outputs": [
    {
     "data": {
      "text/plain": [
       "'\\nDecimal objects cannot generally be combined with floats or instances of fractions.\\n'"
      ]
     },
     "execution_count": 15,
     "metadata": {},
     "output_type": "execute_result"
    }
   ],
   "source": [
    "#Q6\n",
    "\"\"\"\n",
    "Decimal objects cannot generally be combined with floats or instances of fractions.\n",
    "\"\"\""
   ]
  },
  {
   "cell_type": "code",
   "execution_count": 19,
   "id": "178d2b9d",
   "metadata": {},
   "outputs": [
    {
     "data": {
      "text/plain": [
       "'\\nfractions.Fraction in arithmetic operations: an attempt to add a Decimal to a float, \\nfor example, will raise a TypeError. However, it is possible to use Python’s comparison operators to compare a Decimal instance x with another number y.\\nThis avoids confusing results when doing equality comparisons between numbers of different types.\\n'"
      ]
     },
     "execution_count": 19,
     "metadata": {},
     "output_type": "execute_result"
    }
   ],
   "source": [
    "#Q7\n",
    "\"\"\"\n",
    "fractions.Fraction in arithmetic operations: an attempt to add a Decimal to a float, \n",
    "for example, will raise a TypeError. However, it is possible to use Python’s comparison operators to compare a Decimal instance x with another number y.\n",
    "This avoids confusing results when doing equality comparisons between numbers of different types.\n",
    "\"\"\""
   ]
  },
  {
   "cell_type": "code",
   "execution_count": 22,
   "id": "3e11a1b9",
   "metadata": {},
   "outputs": [
    {
     "data": {
      "text/plain": [
       "'\\nThe decimal module incorporates a notion of significant places so that 1.30 + 1.20 is 2.50. The trailing zero is kept to indicate significance. \\nThis is the customary presentation for monetary applications. For multiplication, the “schoolbook” approach uses all the figures in the multiplicands. \\nFor instance, 1.3 * 1.2 gives 1.56 while 1.30 * 1.20 gives 1.5600.\\n'"
      ]
     },
     "execution_count": 22,
     "metadata": {},
     "output_type": "execute_result"
    }
   ],
   "source": [
    "#Q8\n",
    "\"\"\"\n",
    "The decimal module incorporates a notion of significant places so that 1.30 + 1.20 is 2.50. The trailing zero is kept to indicate significance. \n",
    "This is the customary presentation for monetary applications. For multiplication, the “schoolbook” approach uses all the figures in the multiplicands. \n",
    "For instance, 1.3 * 1.2 gives 1.56 while 1.30 * 1.20 gives 1.5600.\n",
    "\"\"\""
   ]
  },
  {
   "cell_type": "code",
   "execution_count": 25,
   "id": "30ea3856",
   "metadata": {},
   "outputs": [
    {
     "data": {
      "text/plain": [
       "'\\nfractions require two pieces of state data, the numerator and the denominator. \\nThe notation defines the fraction object to have an internal data object as part of its state.\\nLikewise, it creates the denominator. \\nThe values of the two formal parameters are initially assigned to the state, allowing the new fraction object to know its starting value\\n'"
      ]
     },
     "execution_count": 25,
     "metadata": {},
     "output_type": "execute_result"
    }
   ],
   "source": [
    "#Q9\n",
    "\"\"\"\n",
    "fractions require two pieces of state data, the numerator and the denominator. \n",
    "The notation defines the fraction object to have an internal data object as part of its state.\n",
    "Likewise, it creates the denominator. \n",
    "The values of the two formal parameters are initially assigned to the state, allowing the new fraction object to know its starting value\n",
    "\"\"\""
   ]
  },
  {
   "cell_type": "code",
   "execution_count": 27,
   "id": "3c33a9ca",
   "metadata": {},
   "outputs": [
    {
     "data": {
      "text/plain": [
       "'\\nIntegers are whole numbers. Fractions are parts per whole item. Decimals are fractions expressed in tenths.\\nInheritance.\\n'"
      ]
     },
     "execution_count": 27,
     "metadata": {},
     "output_type": "execute_result"
    }
   ],
   "source": [
    "#Q10\n",
    "\"\"\"\n",
    "Integers are whole numbers. Fractions are parts per whole item. Decimals are fractions expressed in tenths.\n",
    "Inheritance.\n",
    "\"\"\""
   ]
  },
  {
   "cell_type": "code",
   "execution_count": null,
   "id": "7fc74542",
   "metadata": {},
   "outputs": [],
   "source": []
  }
 ],
 "metadata": {
  "kernelspec": {
   "display_name": "Python 3 (ipykernel)",
   "language": "python",
   "name": "python3"
  },
  "language_info": {
   "codemirror_mode": {
    "name": "ipython",
    "version": 3
   },
   "file_extension": ".py",
   "mimetype": "text/x-python",
   "name": "python",
   "nbconvert_exporter": "python",
   "pygments_lexer": "ipython3",
   "version": "3.9.12"
  }
 },
 "nbformat": 4,
 "nbformat_minor": 5
}
