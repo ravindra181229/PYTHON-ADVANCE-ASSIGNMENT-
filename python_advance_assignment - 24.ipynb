{
 "cells": [
  {
   "cell_type": "markdown",
   "id": "f5aa69af",
   "metadata": {},
   "source": [
    "# python_advance_assignment - 24"
   ]
  },
  {
   "cell_type": "code",
   "execution_count": 2,
   "id": "4c842143",
   "metadata": {},
   "outputs": [
    {
     "data": {
      "text/plain": [
       "\"\\nthe same module is evaluated only once, in other words, the module-level scope is executed just once.\\nIf the module, once evaluated, is imported again, it's second evaluation is skipped and the resolved already exports are used.\\n\""
      ]
     },
     "execution_count": 2,
     "metadata": {},
     "output_type": "execute_result"
    }
   ],
   "source": [
    "#Q1\n",
    "\"\"\"\n",
    "the same module is evaluated only once, in other words, the module-level scope is executed just once.\n",
    "If the module, once evaluated, is imported again, it's second evaluation is skipped and the resolved already exports are used.\n",
    "\"\"\""
   ]
  },
  {
   "cell_type": "code",
   "execution_count": 4,
   "id": "43389672",
   "metadata": {},
   "outputs": [
    {
     "data": {
      "text/plain": [
       "'\\nA module can define functions, classes, and variables.\\nA module can also include runnable code.\\n'"
      ]
     },
     "execution_count": 4,
     "metadata": {},
     "output_type": "execute_result"
    }
   ],
   "source": [
    "#Q2\n",
    "\"\"\"\n",
    "A module can define functions, classes, and variables.\n",
    "A module can also include runnable code.\n",
    "\"\"\""
   ]
  },
  {
   "cell_type": "code",
   "execution_count": 7,
   "id": "75ce7523",
   "metadata": {},
   "outputs": [
    {
     "data": {
      "text/plain": [
       "'\\nChanging the name of the Working file different from the module which is imported in the script can avoid the Circular Imports problem.\\n'"
      ]
     },
     "execution_count": 7,
     "metadata": {},
     "output_type": "execute_result"
    }
   ],
   "source": [
    "#Q3\n",
    "\"\"\"\n",
    "Changing the name of the Working file different from the module which is imported in the script can avoid the Circular Imports problem.\n",
    "\"\"\""
   ]
  },
  {
   "cell_type": "code",
   "execution_count": 12,
   "id": "1583d0ab",
   "metadata": {},
   "outputs": [
    {
     "data": {
      "text/plain": [
       "'\\nThe __all__ in Python is a list of strings defining what symbols in a module will be exported when from <module> import * is used on the module.\\n'"
      ]
     },
     "execution_count": 12,
     "metadata": {},
     "output_type": "execute_result"
    }
   ],
   "source": [
    "#Q4\n",
    "\"\"\"\n",
    "The __all__ in Python is a list of strings defining what symbols in a module will be exported when from <module> import * is used on the module.\n",
    "\"\"\""
   ]
  },
  {
   "cell_type": "code",
   "execution_count": 18,
   "id": "69fce917",
   "metadata": {},
   "outputs": [
    {
     "data": {
      "text/plain": [
       "'\\nThe point of having the if __name__ == \"__main__\" block is to get the piece of code under the condition to get executed when the script is in the __main__ scope.\\nWhile creating packages in Python, however, it\\'s better if the code to be executed under the __main__ context is written in a separate file.\\n'"
      ]
     },
     "execution_count": 18,
     "metadata": {},
     "output_type": "execute_result"
    }
   ],
   "source": [
    "#Q5\n",
    "\"\"\"\n",
    "The point of having the if __name__ == \"__main__\" block is to get the piece of code under the condition to get executed when the script is in the __main__ scope.\n",
    "While creating packages in Python, however, it's better if the code to be executed under the __main__ context is written in a separate file.\n",
    "\"\"\""
   ]
  },
  {
   "cell_type": "code",
   "execution_count": 26,
   "id": "47b82e88",
   "metadata": {},
   "outputs": [
    {
     "data": {
      "text/plain": [
       "'\\nReverse Polish notation (RPN) is a method for conveying mathematical expressions without the use of separators such as brackets and parentheses.\\nThe operators follow their operands, hence removing the need for brackets to define evaluation priority.\\n'"
      ]
     },
     "execution_count": 26,
     "metadata": {},
     "output_type": "execute_result"
    }
   ],
   "source": [
    "#Q6\n",
    "\"\"\"\n",
    "Reverse Polish notation (RPN) is a method for conveying mathematical expressions without the use of separators such as brackets and parentheses.\n",
    "The operators follow their operands, hence removing the need for brackets to define evaluation priority.\n",
    "\"\"\""
   ]
  },
  {
   "cell_type": "code",
   "execution_count": 32,
   "id": "fae77a34",
   "metadata": {},
   "outputs": [
    {
     "data": {
      "text/plain": [
       "'\\nIt does not need any parentheses as long as each operator has a fixed number of operands.\\n\\nStack-organized computers are better suited for post-fix notation than the traditional infix notation. \\nThus, the infix notation must be converted to the postfix notation. \\nThe conversion from infix notation to postfix notation must take into consideration the operational hierarchy. \\n\\nThere are 3 levels of precedence for 5 binary operators as given below: \\n\\nHighest: Exponentiation (^)\\nNext highest: Multiplication (*) and division (/)\\nLowest: Addition (+) and Subtraction (-) \\n\\n'"
      ]
     },
     "execution_count": 32,
     "metadata": {},
     "output_type": "execute_result"
    }
   ],
   "source": [
    "#Q7\n",
    "\"\"\"\n",
    "It does not need any parentheses as long as each operator has a fixed number of operands.\n",
    "\n",
    "Stack-organized computers are better suited for post-fix notation than the traditional infix notation. \n",
    "Thus, the infix notation must be converted to the postfix notation. \n",
    "The conversion from infix notation to postfix notation must take into consideration the operational hierarchy. \n",
    "\n",
    "There are 3 levels of precedence for 5 binary operators as given below: \n",
    "\n",
    "Highest: Exponentiation (^)\n",
    "Next highest: Multiplication (*) and division (/)\n",
    "Lowest: Addition (+) and Subtraction (-) \n",
    "\n",
    "\"\"\""
   ]
  },
  {
   "cell_type": "code",
   "execution_count": null,
   "id": "6b16a829",
   "metadata": {},
   "outputs": [],
   "source": []
  }
 ],
 "metadata": {
  "kernelspec": {
   "display_name": "Python 3 (ipykernel)",
   "language": "python",
   "name": "python3"
  },
  "language_info": {
   "codemirror_mode": {
    "name": "ipython",
    "version": 3
   },
   "file_extension": ".py",
   "mimetype": "text/x-python",
   "name": "python",
   "nbconvert_exporter": "python",
   "pygments_lexer": "ipython3",
   "version": "3.9.12"
  }
 },
 "nbformat": 4,
 "nbformat_minor": 5
}
