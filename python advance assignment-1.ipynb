{
 "cells": [
  {
   "cell_type": "code",
   "execution_count": 1,
   "id": "27be3973",
   "metadata": {},
   "outputs": [
    {
     "data": {
      "text/plain": [
       "\"object oriented programming(oop's) uses classes and objects in programming\\nand it is to implement abstraction,inheritance,polymorphism and encapsulation\""
      ]
     },
     "execution_count": 1,
     "metadata": {},
     "output_type": "execute_result"
    }
   ],
   "source": [
    "#Q1\n",
    "'''object oriented programming(oop's) uses classes and objects in programming\n",
    "and it is to implement abstraction,inheritance,polymorphism and encapsulation'''"
   ]
  },
  {
   "cell_type": "code",
   "execution_count": 2,
   "id": "f59073ec",
   "metadata": {},
   "outputs": [
    {
     "data": {
      "text/plain": [
       "'it searches from top to bottom for the lowest occurance of an attribute name'"
      ]
     },
     "execution_count": 2,
     "metadata": {},
     "output_type": "execute_result"
    }
   ],
   "source": [
    "#Q2\n",
    "'''it searches from top to bottom for the lowest occurance of an attribute name'''"
   ]
  },
  {
   "cell_type": "code",
   "execution_count": 19,
   "id": "ca4a2ed8",
   "metadata": {},
   "outputs": [
    {
     "data": {
      "text/plain": [
       "'class :- its the template for creating object, it is a logical entity , and does not allocate memory \\nobject:- its the instance of class, it is physical entity , it allocates memory'"
      ]
     },
     "execution_count": 19,
     "metadata": {},
     "output_type": "execute_result"
    }
   ],
   "source": [
    "#Q3\n",
    "'''class :- its the template for creating object, it is a logical entity , and does not allocate memory \n",
    "object:- its the instance of class, it is physical entity , it allocates memory'''"
   ]
  },
  {
   "cell_type": "code",
   "execution_count": 18,
   "id": "920d696a",
   "metadata": {},
   "outputs": [
    {
     "data": {
      "text/plain": [
       "'The first argument of every class method is a reference to the current instance of the class'"
      ]
     },
     "execution_count": 18,
     "metadata": {},
     "output_type": "execute_result"
    }
   ],
   "source": [
    "#Q4\n",
    "'''The first argument of every class method is a reference to the current instance of the class'''"
   ]
  },
  {
   "cell_type": "code",
   "execution_count": 5,
   "id": "fb651fd0",
   "metadata": {},
   "outputs": [
    {
     "data": {
      "text/plain": [
       "'when an object is created from class, it allows the class to initialize the attributes of a class'"
      ]
     },
     "execution_count": 5,
     "metadata": {},
     "output_type": "execute_result"
    }
   ],
   "source": [
    "#Q5\n",
    "'''when an object is created from class, it allows the class to initialize the attributes of a class'''"
   ]
  },
  {
   "cell_type": "code",
   "execution_count": 20,
   "id": "19763778",
   "metadata": {},
   "outputs": [
    {
     "data": {
      "text/plain": [
       "'call the class using class name and pass in arguments its __init__ method'"
      ]
     },
     "execution_count": 20,
     "metadata": {},
     "output_type": "execute_result"
    }
   ],
   "source": [
    "#Q6\n",
    "'''call the class using class name and pass in arguments its __init__ method'''"
   ]
  },
  {
   "cell_type": "code",
   "execution_count": 13,
   "id": "116fc4dc",
   "metadata": {},
   "outputs": [
    {
     "name": "stdout",
     "output_type": "stream",
     "text": [
      "create a class using keyword class, create the object ,create self parameter ,modify the object\n",
      "enter the first no: 5\n",
      "enter the second no: 7\n",
      "12\n"
     ]
    }
   ],
   "source": [
    "#Q7\n",
    "print(\"create a class using keyword class, create the object ,create self parameter ,modify the object\")\n",
    "#example\n",
    "class Add:\n",
    "    a = int(input(\"enter the first no: \"))\n",
    "    b = int(input(\"enter the second no: \"))\n",
    "    def __init__(self,a,b):\n",
    "        self.a = a\n",
    "        self.b = b\n",
    "    print(a+b)"
   ]
  },
  {
   "cell_type": "code",
   "execution_count": 17,
   "id": "5efcbf8f",
   "metadata": {},
   "outputs": [
    {
     "name": "stdout",
     "output_type": "stream",
     "text": [
      "the class from which the class inherits is called superclass or parent class\n",
      "50\n"
     ]
    }
   ],
   "source": [
    "#Q8\n",
    "print(\"the class from which a class inherits is called superclass or parent class\")\n",
    "\n",
    "#example\n",
    "class parent:\n",
    "    a = 10\n",
    "    b = 40\n",
    "    def __init__(self,a,b):\n",
    "        self.a = a\n",
    "        self.b = b\n",
    "class child(parent):\n",
    "    print(parent.a+parent.b)"
   ]
  },
  {
   "cell_type": "code",
   "execution_count": null,
   "id": "85518963",
   "metadata": {},
   "outputs": [],
   "source": []
  }
 ],
 "metadata": {
  "kernelspec": {
   "display_name": "Python 3",
   "language": "python",
   "name": "python3"
  },
  "language_info": {
   "codemirror_mode": {
    "name": "ipython",
    "version": 3
   },
   "file_extension": ".py",
   "mimetype": "text/x-python",
   "name": "python",
   "nbconvert_exporter": "python",
   "pygments_lexer": "ipython3",
   "version": "3.8.8"
  }
 },
 "nbformat": 4,
 "nbformat_minor": 5
}
