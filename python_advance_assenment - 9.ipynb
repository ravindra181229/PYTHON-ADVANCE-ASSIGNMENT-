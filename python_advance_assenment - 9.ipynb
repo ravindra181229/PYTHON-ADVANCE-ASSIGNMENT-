{
 "cells": [
  {
   "cell_type": "markdown",
   "id": "3f628da5",
   "metadata": {},
   "source": [
    "# python_advance_assengment - 9"
   ]
  },
  {
   "cell_type": "code",
   "execution_count": 29,
   "id": "b10a100e",
   "metadata": {},
   "outputs": [
    {
     "data": {
      "text/plain": [
       "\"\\nstr.isnumeric() - String consists of only numeric characters\\nstr.isspace() - String consists of only whitespace characters\\nstr.istitle() - String is in title case\\nstr.isupper() - String's alphabetic characters are all upper case\\netc\\n\""
      ]
     },
     "execution_count": 29,
     "metadata": {},
     "output_type": "execute_result"
    }
   ],
   "source": [
    "#Q1\n",
    "\"\"\"\n",
    "str.isnumeric() - String consists of only numeric characters\n",
    "str.isspace() - String consists of only whitespace characters\n",
    "str.istitle() - String is in title case\n",
    "str.isupper() - String's alphabetic characters are all upper case\n",
    "etc\n",
    "\"\"\""
   ]
  },
  {
   "cell_type": "code",
   "execution_count": 5,
   "id": "e9628e21",
   "metadata": {},
   "outputs": [
    {
     "data": {
      "text/plain": [
       "'\\nput the sequence of characters inside either single quotes, double quotes, or triple quotes and then assign it to a variable.\\n\\nThe string operations include concatenation, scanning, substringing, translation, and verification. \\nString operations can only be used on character, graphic, or UCS-2 fields. The CAT operation concatenates two strings to form one.\\n'"
      ]
     },
     "execution_count": 5,
     "metadata": {},
     "output_type": "execute_result"
    }
   ],
   "source": [
    "#Q2\n",
    "\"\"\"\n",
    "put the sequence of characters inside either single quotes, double quotes, or triple quotes and then assign it to a variable.\n",
    "\n",
    "The string operations include concatenation, scanning, substringing, translation, and verification. \n",
    "String operations can only be used on character, graphic, or UCS-2 fields. The CAT operation concatenates two strings to form one.\n",
    "\"\"\""
   ]
  },
  {
   "cell_type": "code",
   "execution_count": 9,
   "id": "5f0bbf8a",
   "metadata": {},
   "outputs": [
    {
     "data": {
      "text/plain": [
       "'\\nIn order to use non-ASCII characters, Python requires explicit encoding and decoding of strings into Unicode.\\nPython scripts are assumed to be encoded in UTF-8, which is a standard Unicode encoding that supports non-ASCII characters.\\n'"
      ]
     },
     "execution_count": 9,
     "metadata": {},
     "output_type": "execute_result"
    }
   ],
   "source": [
    "#Q3\n",
    "\"\"\"\n",
    "In order to use non-ASCII characters, Python requires explicit encoding and decoding of strings into Unicode.\n",
    "Python scripts are assumed to be encoded in UTF-8, which is a standard Unicode encoding that supports non-ASCII characters.\n",
    "\"\"\""
   ]
  },
  {
   "cell_type": "code",
   "execution_count": 13,
   "id": "f12c20c0",
   "metadata": {},
   "outputs": [
    {
     "data": {
      "text/plain": [
       "'\\nThe major difference between these two is that a text file contains textual information in the form of alphabets, digits and special characters or symbols. \\nOn the other hand, a binary file contains bytes or a compiled version of a text file.\\n'"
      ]
     },
     "execution_count": 13,
     "metadata": {},
     "output_type": "execute_result"
    }
   ],
   "source": [
    "#Q4\n",
    "\"\"\"\n",
    "The major difference between these two is that a text file contains textual information in the form of alphabets, digits and special characters or symbols. \n",
    "On the other hand, a binary file contains bytes or a compiled version of a text file.\n",
    "\"\"\""
   ]
  },
  {
   "cell_type": "code",
   "execution_count": 16,
   "id": "d804acb3",
   "metadata": {},
   "outputs": [
    {
     "data": {
      "text/plain": [
       "\"\\nPython's string type uses the Unicode Standard for representing characters, which lets Python programs work with all these different possible characters.\\nUnicode is a specification that aims to list every character used by human languages and give each character its own unique code.\\n\""
      ]
     },
     "execution_count": 16,
     "metadata": {},
     "output_type": "execute_result"
    }
   ],
   "source": [
    "#Q5\n",
    "\"\"\"\n",
    "Python's string type uses the Unicode Standard for representing characters, which lets Python programs work with all these different possible characters.\n",
    "Unicode is a specification that aims to list every character used by human languages and give each character its own unique code.\n",
    "\"\"\""
   ]
  },
  {
   "cell_type": "code",
   "execution_count": 20,
   "id": "158d25ec",
   "metadata": {},
   "outputs": [
    {
     "data": {
      "text/plain": [
       "'\\nencode method does, and the result of encoding a unicode string is a bytestring.\\nYou should either use normal open() and encode the unicode yourself, or use codecs.\\nopen() and not encode the data yourself\\n'"
      ]
     },
     "execution_count": 20,
     "metadata": {},
     "output_type": "execute_result"
    }
   ],
   "source": [
    "#Q6\n",
    "\"\"\"\n",
    "encode method does, and the result of encoding a unicode string is a bytestring.\n",
    "You should either use normal open() and encode the unicode yourself, or use codecs.\n",
    "open() and not encode the data yourself\n",
    "\"\"\""
   ]
  },
  {
   "cell_type": "code",
   "execution_count": 24,
   "id": "55806367",
   "metadata": {},
   "outputs": [
    {
     "data": {
      "text/plain": [
       "'\\nthe first 128 Unicode characters point to ASCII characters. \\nAnd since UTF-8 encodes each of those characters using 1-byte.\\nASCII is essentially just UTF-8, or we can say that ASCII is a subset of Unicode\\n'"
      ]
     },
     "execution_count": 24,
     "metadata": {},
     "output_type": "execute_result"
    }
   ],
   "source": [
    "#Q7\n",
    "\"\"\"\n",
    "the first 128 Unicode characters point to ASCII characters. \n",
    "And since UTF-8 encodes each of those characters using 1-byte.\n",
    "ASCII is essentially just UTF-8, or we can say that ASCII is a subset of Unicode\n",
    "\"\"\""
   ]
  },
  {
   "cell_type": "code",
   "execution_count": 28,
   "id": "38c4ba4b",
   "metadata": {},
   "outputs": [
    {
     "data": {
      "text/plain": [
       "'\\nPython strings are \"immutable\" which means they cannot be changed after they are created.\\nSince strings can\\'t be changed, we construct new strings as we go to represent computed values.\\n'"
      ]
     },
     "execution_count": 28,
     "metadata": {},
     "output_type": "execute_result"
    }
   ],
   "source": [
    "#Q8\n",
    "\"\"\"\n",
    "Python strings are \"immutable\" which means they cannot be changed after they are created.\n",
    "Since strings can't be changed, we construct new strings as we go to represent computed values.\n",
    "\"\"\""
   ]
  },
  {
   "cell_type": "code",
   "execution_count": null,
   "id": "083ee60c",
   "metadata": {},
   "outputs": [],
   "source": []
  }
 ],
 "metadata": {
  "kernelspec": {
   "display_name": "Python 3 (ipykernel)",
   "language": "python",
   "name": "python3"
  },
  "language_info": {
   "codemirror_mode": {
    "name": "ipython",
    "version": 3
   },
   "file_extension": ".py",
   "mimetype": "text/x-python",
   "name": "python",
   "nbconvert_exporter": "python",
   "pygments_lexer": "ipython3",
   "version": "3.9.12"
  }
 },
 "nbformat": 4,
 "nbformat_minor": 5
}
