{
 "cells": [
  {
   "cell_type": "markdown",
   "id": "3abad342",
   "metadata": {},
   "source": [
    "# python_advance_assignment - 23"
   ]
  },
  {
   "cell_type": "code",
   "execution_count": 2,
   "id": "eddc1d6c",
   "metadata": {},
   "outputs": [
    {
     "data": {
      "text/plain": [
       "'\\nIf you want to compare values, use a pie chart — for relative comparison — or bar charts — for precise comparison. \\nIf you want to compare volumes, use an area chart or a bubble chart. If you want to show trends and patterns in your data, use a line chart, bar chart, or scatter plot\\n'"
      ]
     },
     "execution_count": 2,
     "metadata": {},
     "output_type": "execute_result"
    }
   ],
   "source": [
    "#Q1\n",
    "\"\"\"\n",
    "If you want to compare values, use a pie chart — for relative comparison — or bar charts — for precise comparison. \n",
    "If you want to compare volumes, use an area chart or a bubble chart. If you want to show trends and patterns in your data, use a line chart, bar chart, or scatter plot\n",
    "\"\"\""
   ]
  },
  {
   "cell_type": "code",
   "execution_count": 24,
   "id": "099552c4",
   "metadata": {},
   "outputs": [
    {
     "data": {
      "text/plain": [
       "\"\\nWhen it comes to anything compound interest is better since it allows to grow at a faster rate than they would in a simple interest rate.\\nCompound interest comes into play when you're calculating the annual percentage yield.\\n\""
      ]
     },
     "execution_count": 24,
     "metadata": {},
     "output_type": "execute_result"
    }
   ],
   "source": [
    "#Q2\n",
    "\"\"\"\n",
    "When it comes to anything compound interest is better since it allows to grow at a faster rate than they would in a simple interest rate.\n",
    "Compound interest comes into play when you're calculating the annual percentage yield.\n",
    "\"\"\""
   ]
  },
  {
   "cell_type": "code",
   "execution_count": 8,
   "id": "34760a5e",
   "metadata": {},
   "outputs": [
    {
     "data": {
      "text/plain": [
       "'\\nA histogram is a display of statistical information that uses rectangles to show the frequency of data items in successive numerical intervals of equal size\\n\\n>> Numpy has a built-in numpy.histogram() function which represents the frequency of data distribution in the graphical form. \\n'"
      ]
     },
     "execution_count": 8,
     "metadata": {},
     "output_type": "execute_result"
    }
   ],
   "source": [
    "#Q3\n",
    "\"\"\"\n",
    "A histogram is a display of statistical information that uses rectangles to show the frequency of data items in successive numerical intervals of equal size\n",
    "\n",
    ">> Numpy has a built-in numpy.histogram() function which represents the frequency of data distribution in the graphical form. \n",
    "\"\"\""
   ]
  },
  {
   "cell_type": "code",
   "execution_count": 11,
   "id": "b9daa5b5",
   "metadata": {},
   "outputs": [
    {
     "data": {
      "text/plain": [
       "'\\nTo change the range of X and Y axes, we can use xlim() and ylim() methods.\\n'"
      ]
     },
     "execution_count": 11,
     "metadata": {},
     "output_type": "execute_result"
    }
   ],
   "source": [
    "#Q4\n",
    "\"\"\"\n",
    "To change the range of X and Y axes, we can use xlim() and ylim() methods.\n",
    "\"\"\""
   ]
  },
  {
   "cell_type": "code",
   "execution_count": 14,
   "id": "eed802b3",
   "metadata": {},
   "outputs": [
    {
     "data": {
      "text/plain": [
       "'\\nnp. dot is the dot product of two matrices. Whereas np. multiply does an element-wise multiplication of two matrices.\\n\\n>> There are three main ways to perform NumPy matrix multiplication :\\ndot(array a, array b) : returns the scalar or dot product of two arrays,\\nmatmul(array a, array b) : returns the matrix product of two arrays,\\nmultiply(array a, array b) : returns the element-wise matrix multiplication of two arrays.\\n'"
      ]
     },
     "execution_count": 14,
     "metadata": {},
     "output_type": "execute_result"
    }
   ],
   "source": [
    "#Q5\n",
    "\"\"\"\n",
    "np. dot is the dot product of two matrices. Whereas np. multiply does an element-wise multiplication of two matrices.\n",
    "\n",
    ">> There are three main ways to perform NumPy matrix multiplication :\n",
    "dot(array a, array b) : returns the scalar or dot product of two arrays,\n",
    "matmul(array a, array b) : returns the matrix product of two arrays,\n",
    "multiply(array a, array b) : returns the element-wise matrix multiplication of two arrays.\n",
    "\"\"\""
   ]
  },
  {
   "cell_type": "code",
   "execution_count": 18,
   "id": "598fc705",
   "metadata": {},
   "outputs": [
    {
     "data": {
      "text/plain": [
       "'\\nIn order to calculate the monthly mortgage payment, you will use the numpy function.pmt(rate, nper, pv) \\nwhere: rate = The periodic (monthly) interest rate\\n'"
      ]
     },
     "execution_count": 18,
     "metadata": {},
     "output_type": "execute_result"
    }
   ],
   "source": [
    "#Q6\n",
    "\"\"\"\n",
    "In order to calculate the monthly mortgage payment, you will use the numpy function.pmt(rate, nper, pv) \n",
    "where: rate = The periodic (monthly) interest rate\n",
    "\"\"\""
   ]
  },
  {
   "cell_type": "code",
   "execution_count": 22,
   "id": "aafe5a7c",
   "metadata": {},
   "outputs": [
    {
     "data": {
      "text/plain": [
       "'\\nThe elements of a NumPy array, or simply an array, are usually numbers, but can also be boolians, strings, or other objects\\n\\nThe dtype of any numpy array containing string values is the maximum length of any string present in the array.\\nOnce set, it will only be able to store new string having length not more than the maximum length at the time of the creation\\n'"
      ]
     },
     "execution_count": 22,
     "metadata": {},
     "output_type": "execute_result"
    }
   ],
   "source": [
    "#Q7\n",
    "\"\"\"\n",
    "The elements of a NumPy array, or simply an array, are usually numbers, but can also be boolians, strings, or other objects\n",
    "\n",
    "The dtype of any numpy array containing string values is the maximum length of any string present in the array.\n",
    "Once set, it will only be able to store new string having length not more than the maximum length at the time of the creation\n",
    "\"\"\""
   ]
  },
  {
   "cell_type": "code",
   "execution_count": null,
   "id": "81018475",
   "metadata": {},
   "outputs": [],
   "source": []
  }
 ],
 "metadata": {
  "kernelspec": {
   "display_name": "Python 3 (ipykernel)",
   "language": "python",
   "name": "python3"
  },
  "language_info": {
   "codemirror_mode": {
    "name": "ipython",
    "version": 3
   },
   "file_extension": ".py",
   "mimetype": "text/x-python",
   "name": "python",
   "nbconvert_exporter": "python",
   "pygments_lexer": "ipython3",
   "version": "3.9.12"
  }
 },
 "nbformat": 4,
 "nbformat_minor": 5
}
