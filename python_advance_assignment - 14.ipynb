{
 "cells": [
  {
   "cell_type": "markdown",
   "id": "fcc4c047",
   "metadata": {},
   "source": [
    "# python_advance_assignment - 14"
   ]
  },
  {
   "cell_type": "code",
   "execution_count": 2,
   "id": "e781eecd",
   "metadata": {},
   "outputs": [
    {
     "data": {
      "text/plain": [
       "'\\nIt adds right operand to the left operand and assign the result to left operand\\n(a+=b) is faster than (a=a+b)\\n'"
      ]
     },
     "execution_count": 2,
     "metadata": {},
     "output_type": "execute_result"
    }
   ],
   "source": [
    "#Q1\n",
    "\"\"\"\n",
    "It adds right operand to the left operand and assign the result to left operand\n",
    "(a+=b) is faster than (a=a+b)\n",
    "\"\"\""
   ]
  },
  {
   "cell_type": "code",
   "execution_count": 73,
   "id": "21f8e96f",
   "metadata": {},
   "outputs": [
    {
     "name": "stdout",
     "output_type": "stream",
     "text": [
      "30\n",
      "10\n"
     ]
    }
   ],
   "source": [
    "#Q2\n",
    "a = 10\n",
    "b = 20\n",
    "a,b = a + b,a\n",
    "print(a)\n",
    "print(b)"
   ]
  },
  {
   "cell_type": "code",
   "execution_count": 5,
   "id": "4a99d92b",
   "metadata": {},
   "outputs": [
    {
     "data": {
      "text/plain": [
       "'\\nSimple loop with append : my_list = [] for i in range(50): my_list.append(0)\\nSimple loop with += : my_list = [] for i in range(50): my_list += [0]\\nList comprehension: my_list = [0 for i in range(50)]\\n'"
      ]
     },
     "execution_count": 5,
     "metadata": {},
     "output_type": "execute_result"
    }
   ],
   "source": [
    "#Q3\n",
    "\"\"\"\n",
    "Simple loop with append : my_list = [] for i in range(50): my_list.append(0)\n",
    "Simple loop with += : my_list = [] for i in range(50): my_list += [0]\n",
    "List comprehension: my_list = [0 for i in range(50)]\n",
    "\"\"\""
   ]
  },
  {
   "cell_type": "code",
   "execution_count": 36,
   "id": "6e368230",
   "metadata": {},
   "outputs": [
    {
     "name": "stdout",
     "output_type": "stream",
     "text": [
      "[1, 2, 3, 1, 2, 3, 1, 2, 3, 1, 2, 3, 1, 2, 3, 1, 2, 3, 1, 2, 3, 1, 2, 3, 1, 2, 3, 1, 2, 3, 1, 2, 3, 1, 2, 3, 1, 2, 3, 1, 2, 3, 1, 2, 3, 1, 2, 3, 1, 2, 3, 1, 2, 3, 1, 2, 3, 1, 2, 3, 1, 2, 3, 1, 2, 3, 1, 2, 3, 1, 2, 3, 1, 2, 3, 1, 2, 3, 1, 2, 3, 1, 2, 3, 1, 2, 3, 1, 2, 3, 1, 2, 3, 1, 2, 3, 1, 2, 3] "
     ]
    }
   ],
   "source": [
    "#Q4\n",
    "#initialise a list and multiply the list for 33 times\n",
    "#it initialises a list of 99 integers and repeats the sequence 1,2,3\n",
    "lists = [1,2,3]\n",
    "print(lists * 33,end=\" \")"
   ]
  },
  {
   "cell_type": "code",
   "execution_count": 40,
   "id": "d2e4bd32",
   "metadata": {},
   "outputs": [
    {
     "data": {
      "text/plain": [
       "'\\nIn Python, Multidimensional Array can be implemented by fitting in a list function inside another list function, which is basically a nesting operation for the list function. \\nHere, a list can have a number of values of any data type that are segregated by a delimiter like a comma.\\n'"
      ]
     },
     "execution_count": 40,
     "metadata": {},
     "output_type": "execute_result"
    }
   ],
   "source": [
    "#Q5\n",
    "\"\"\"\n",
    "In Python, Multidimensional Array can be implemented by fitting in a list function inside another list function, which is basically a nesting operation for the list function. \n",
    "Here, a list can have a number of values of any data type that are segregated by a delimiter like a comma.\n",
    "\"\"\""
   ]
  },
  {
   "cell_type": "code",
   "execution_count": 44,
   "id": "ba08066b",
   "metadata": {},
   "outputs": [
    {
     "data": {
      "text/plain": [
       "\"\\nIt can identify when it receives a string or a tuple and work on it like a list,You can do that using loops\\nList comprehension works with string lists also. \\nThe following creates a new list of strings that contains 'a'. Above, the expression if 'a' in s returns True if an element contains a character 'a'\\n\""
      ]
     },
     "execution_count": 44,
     "metadata": {},
     "output_type": "execute_result"
    }
   ],
   "source": [
    "#Q6\n",
    "\"\"\"\n",
    "It can identify when it receives a string or a tuple and work on it like a list,You can do that using loops\n",
    "List comprehension works with string lists also. \n",
    "The following creates a new list of strings that contains 'a'. Above, the expression if 'a' in s returns True if an element contains a character 'a'\n",
    "\"\"\""
   ]
  },
  {
   "cell_type": "code",
   "execution_count": 47,
   "id": "cf250c36",
   "metadata": {},
   "outputs": [
    {
     "data": {
      "text/plain": [
       "'\\nTo run Python scripts with the python command, you need to open a command-line \\nand type in the word python , or python3 if you have both versions, followed by the path to your script\\nit is possible through IDLE also, just copy the path of the folder and run it.\\nTo execute a file in IDLE, simply press the F5 key on your keyboard. You can also select Run → Run Module from the menu bar.\\n'"
      ]
     },
     "execution_count": 47,
     "metadata": {},
     "output_type": "execute_result"
    }
   ],
   "source": [
    "#Q7\n",
    "\"\"\"\n",
    "To run Python scripts with the python command, you need to open a command-line \n",
    "and type in the word python , or python3 if you have both versions, followed by the path to your script\n",
    "it is possible through IDLE also, just copy the path of the folder and run it.\n",
    "To execute a file in IDLE, simply press the F5 key on your keyboard. You can also select Run → Run Module from the menu bar.\n",
    "\"\"\""
   ]
  },
  {
   "cell_type": "code",
   "execution_count": 52,
   "id": "5e9d567e",
   "metadata": {},
   "outputs": [
    {
     "data": {
      "text/plain": [
       "\"\\nBecause everything's a first-class object in Python, there are relatively few obscure special cases. \\nIn Java, for example, there are primitive types (int, bool, double, char) that aren't proper objects.\\nThat's why Java has to introduce Integer, Boolean, Double, and Character as first-class types\\n\\nwe can reusability of a code in python with a function that you can't do in C or C++\\nPython has fewer lines of code. C++ tends to have long lines of code. Python supports garbage collection\\n\""
      ]
     },
     "execution_count": 52,
     "metadata": {},
     "output_type": "execute_result"
    }
   ],
   "source": [
    "#Q8\n",
    "\"\"\"\n",
    "Because everything's a first-class object in Python, there are relatively few obscure special cases. \n",
    "In Java, for example, there are primitive types (int, bool, double, char) that aren't proper objects.\n",
    "That's why Java has to introduce Integer, Boolean, Double, and Character as first-class types\n",
    "\n",
    "we can reusability of a code in python with a function that you can't do in C or C++\n",
    "Python has fewer lines of code. C++ tends to have long lines of code. Python supports garbage collection\n",
    "\"\"\""
   ]
  },
  {
   "cell_type": "code",
   "execution_count": 55,
   "id": "7b7d7849",
   "metadata": {},
   "outputs": [
    {
     "data": {
      "text/plain": [
       "'\\nwrappers are the functionality available in Python to wrap a function with another function to extend its behavior.\\nthe reason to use wrappers in our code lies in the fact that we can modify a wrapped function without actually changing it.\\n\\nA decorator is a design pattern in Python that allows a user to add new functionality to an existing object without modifying its structure.\\n'"
      ]
     },
     "execution_count": 55,
     "metadata": {},
     "output_type": "execute_result"
    }
   ],
   "source": [
    "#Q9\n",
    "\"\"\"\n",
    "wrappers are the functionality available in Python to wrap a function with another function to extend its behavior.\n",
    "the reason to use wrappers in our code lies in the fact that we can modify a wrapped function without actually changing it.\n",
    "\n",
    "A decorator is a design pattern in Python that allows a user to add new functionality to an existing object without modifying its structure.\n",
    "\"\"\""
   ]
  },
  {
   "cell_type": "code",
   "execution_count": 57,
   "id": "b30d565a",
   "metadata": {},
   "outputs": [
    {
     "data": {
      "text/plain": [
       "'\\na generator is a function that returns an object (iterator) which we can iterate over (one value at a time)\\n'"
      ]
     },
     "execution_count": 57,
     "metadata": {},
     "output_type": "execute_result"
    }
   ],
   "source": [
    "#Q10\n",
    "\"\"\"\n",
    "a generator is a function that returns an object (iterator) which we can iterate over (one value at a time)\n",
    "\"\"\""
   ]
  },
  {
   "cell_type": "code",
   "execution_count": 60,
   "id": "2dc9d2c3",
   "metadata": {},
   "outputs": [
    {
     "data": {
      "text/plain": [
       "'\\nIf a function contains at least one yield statement (it may contain other yield or return statements), it becomes a generator function. \\nBoth yield and return will return some value from a function.\\n'"
      ]
     },
     "execution_count": 60,
     "metadata": {},
     "output_type": "execute_result"
    }
   ],
   "source": [
    "#Q11\n",
    "\"\"\"\n",
    "If a function contains at least one yield statement (it may contain other yield or return statements), it becomes a generator function. \n",
    "Both yield and return will return some value from a function.\n",
    "\"\"\""
   ]
  },
  {
   "cell_type": "code",
   "execution_count": 66,
   "id": "b852334e",
   "metadata": {},
   "outputs": [
    {
     "data": {
      "text/plain": [
       "'\\nMemory efficient method of generating sequence types in python.\\nTime-efficient when compared to list comparisons.\\n'"
      ]
     },
     "execution_count": 66,
     "metadata": {},
     "output_type": "execute_result"
    }
   ],
   "source": [
    "#Q12\n",
    "\"\"\"\n",
    "Memory efficient method of generating sequence types in python.\n",
    "Time-efficient when compared to list comparisons.\n",
    "\"\"\""
   ]
  }
 ],
 "metadata": {
  "kernelspec": {
   "display_name": "Python 3 (ipykernel)",
   "language": "python",
   "name": "python3"
  },
  "language_info": {
   "codemirror_mode": {
    "name": "ipython",
    "version": 3
   },
   "file_extension": ".py",
   "mimetype": "text/x-python",
   "name": "python",
   "nbconvert_exporter": "python",
   "pygments_lexer": "ipython3",
   "version": "3.9.12"
  }
 },
 "nbformat": 4,
 "nbformat_minor": 5
}
