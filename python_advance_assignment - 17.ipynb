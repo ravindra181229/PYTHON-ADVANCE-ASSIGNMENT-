{
 "cells": [
  {
   "cell_type": "markdown",
   "id": "ed6cede2",
   "metadata": {},
   "source": [
    "# python_advance_assignment - 17"
   ]
  },
  {
   "cell_type": "code",
   "execution_count": 1,
   "id": "033bd265",
   "metadata": {},
   "outputs": [
    {
     "data": {
      "text/plain": [
       "\"\\nThe greedy match will try to match as many repetitions of the quantified pattern as possible. \\nThe non-greedy match will try to match as few repetitions of the quantified pattern as possible.\\n\\nTo make the quantifier non-greedy you simply follow it with a '?' the first 3 characters and \\nthen the following 'ab' is matched. greedy by appending a '?' symbol to them: *?, +?, ??, {n,m}?, and {n,}?.\\n\\n\""
      ]
     },
     "execution_count": 1,
     "metadata": {},
     "output_type": "execute_result"
    }
   ],
   "source": [
    "#Q1\n",
    "\"\"\"\n",
    "The greedy match will try to match as many repetitions of the quantified pattern as possible. \n",
    "The non-greedy match will try to match as few repetitions of the quantified pattern as possible.\n",
    "\n",
    "To make the quantifier non-greedy you simply follow it with a '?' the first 3 characters and \n",
    "then the following 'ab' is matched. greedy by appending a '?' symbol to them: *?, +?, ??, {n,m}?, and {n,}?.\n",
    "\n",
    "\"\"\""
   ]
  },
  {
   "cell_type": "code",
   "execution_count": 4,
   "id": "d1ee170f",
   "metadata": {},
   "outputs": [
    {
     "data": {
      "text/plain": [
       "\"\\nthe greedy quantifiers will match their preceding elements as much as possible to return to the biggest match possible.\\nthe non-greedy quantifiers will match as little as possible to return the smallest match possible.\\n\\nIt becomes important if you are trying to match certain parts of an expression.\\nSometimes you don't want to match everything - as little as possible\\n\""
      ]
     },
     "execution_count": 4,
     "metadata": {},
     "output_type": "execute_result"
    }
   ],
   "source": [
    "#Q2\n",
    "\"\"\"\n",
    "the greedy quantifiers will match their preceding elements as much as possible to return to the biggest match possible.\n",
    "the non-greedy quantifiers will match as little as possible to return the smallest match possible.\n",
    "\n",
    "It becomes important if you are trying to match certain parts of an expression.\n",
    "Sometimes you don't want to match everything - as little as possible\n",
    "\"\"\""
   ]
  },
  {
   "cell_type": "code",
   "execution_count": 10,
   "id": "743d00d7",
   "metadata": {},
   "outputs": [
    {
     "data": {
      "text/plain": [
       "'\\nA wildcard pattern is a series of characters that are matched against incoming character strings. \\nYou can use these patterns when you define pattern matching criteria. Matching is done strictly from left to right, one character or basic wildcard pattern at a time.\\n'"
      ]
     },
     "execution_count": 10,
     "metadata": {},
     "output_type": "execute_result"
    }
   ],
   "source": [
    "#Q3\n",
    "\"\"\"\n",
    "A wildcard pattern is a series of characters that are matched against incoming character strings. \n",
    "You can use these patterns when you define pattern matching criteria. Matching is done strictly from left to right, one character or basic wildcard pattern at a time.\n",
    "\"\"\""
   ]
  },
  {
   "cell_type": "code",
   "execution_count": 33,
   "id": "db13c228",
   "metadata": {},
   "outputs": [
    {
     "data": {
      "text/plain": [
       "'\\nInteraction Effects in Statistics\\n'"
      ]
     },
     "execution_count": 33,
     "metadata": {},
     "output_type": "execute_result"
    }
   ],
   "source": [
    "#Q4\n",
    "\"\"\"\n",
    "Interaction Effects in Statistics\n",
    "\"\"\""
   ]
  },
  {
   "cell_type": "code",
   "execution_count": 13,
   "id": "0fdca1ae",
   "metadata": {},
   "outputs": [
    {
     "data": {
      "text/plain": [
       "\"\\nLookahead is used as an assertion in Python regular expressions to determine success or failure whether the pattern is ahead\\ni.e to the right of the parser's current position. \\nLookahead Example: Simple Password Validation\\n\""
      ]
     },
     "execution_count": 13,
     "metadata": {},
     "output_type": "execute_result"
    }
   ],
   "source": [
    "#Q5\n",
    "\"\"\"\n",
    "Lookahead is used as an assertion in Python regular expressions to determine success or failure whether the pattern is ahead\n",
    "i.e to the right of the parser's current position. \n",
    "Lookahead Example: Simple Password Validation\n",
    "\"\"\""
   ]
  },
  {
   "cell_type": "code",
   "execution_count": 17,
   "id": "f7b52a12",
   "metadata": {},
   "outputs": [
    {
     "data": {
      "text/plain": [
       "'\\nPositive lookahead : \\nIn this type the regex engine searches for a particular element which may be a character or characters or a group after the item matched.\\n\\nNegative loohahead :\\nA negative look-ahead, on the other hand, is when you want to find an expression A that does not have an expression B (i.e., the pattern) after it. \\nIts syntax is: A(?!B) . In a way, it is the opposite of a positive look-ahead.\\n'"
      ]
     },
     "execution_count": 17,
     "metadata": {},
     "output_type": "execute_result"
    }
   ],
   "source": [
    "#Q6\n",
    "\"\"\"\n",
    "Positive lookahead : \n",
    "In this type the regex engine searches for a particular element which may be a character or characters or a group after the item matched.\n",
    "\n",
    "Negative loohahead :\n",
    "A negative look-ahead, on the other hand, is when you want to find an expression A that does not have an expression B (i.e., the pattern) after it. \n",
    "Its syntax is: A(?!B) . In a way, it is the opposite of a positive look-ahead.\n",
    "\"\"\""
   ]
  },
  {
   "cell_type": "code",
   "execution_count": 22,
   "id": "387a2fca",
   "metadata": {},
   "outputs": [
    {
     "data": {
      "text/plain": [
       "'\\nThe advantage to named groups is that it adds readability and understandability to the code,\\nso that you can easily see what part of a regular expression match is being referenced.\\n'"
      ]
     },
     "execution_count": 22,
     "metadata": {},
     "output_type": "execute_result"
    }
   ],
   "source": [
    "#Q7\n",
    "\"\"\"\n",
    "The advantage to named groups is that it adds readability and understandability to the code,\n",
    "so that you can easily see what part of a regular expression match is being referenced.\n",
    "\"\"\""
   ]
  },
  {
   "cell_type": "code",
   "execution_count": 26,
   "id": "c8652005",
   "metadata": {},
   "outputs": [
    {
     "data": {
      "text/plain": [
       "\"\\nThere's two different regex features that would be helpful. First off, you can use capturing groups. If you put something in parentheses, you can refer to whatever matched inside.\\nso Will match any character followed by that same character. You can also refer to groups in the replacement part of a substitute command.\\n\""
      ]
     },
     "execution_count": 26,
     "metadata": {},
     "output_type": "execute_result"
    }
   ],
   "source": [
    "#Q8\n",
    "\"\"\"\n",
    "There's two different regex features that would be helpful. First off, you can use capturing groups. If you put something in parentheses, you can refer to whatever matched inside.\n",
    "so Will match any character followed by that same character. You can also refer to groups in the replacement part of a substitute command.\n",
    "\"\"\""
   ]
  },
  {
   "cell_type": "code",
   "execution_count": 28,
   "id": "a1b3a939",
   "metadata": {},
   "outputs": [
    {
     "data": {
      "text/plain": [
       "'\\nA Scanner simply turns an input String (say a file) into a list of tokens. \\nThese tokens represent things like identifiers, parentheses, operators etc. \\nA parser converts this list of tokens into a Tree-like object to represent how the tokens fit together to form a cohesive whole\\n\\nThe findall() function scans the string from left to right and finds all the matches of the pattern in the string\\n'"
      ]
     },
     "execution_count": 28,
     "metadata": {},
     "output_type": "execute_result"
    }
   ],
   "source": [
    "#Q9\n",
    "\"\"\"\n",
    "A Scanner simply turns an input String (say a file) into a list of tokens. \n",
    "These tokens represent things like identifiers, parentheses, operators etc. \n",
    "A parser converts this list of tokens into a Tree-like object to represent how the tokens fit together to form a cohesive whole\n",
    "\n",
    "The findall() function scans the string from left to right and finds all the matches of the pattern in the string\n",
    "\"\"\""
   ]
  },
  {
   "cell_type": "code",
   "execution_count": 30,
   "id": "6a053647",
   "metadata": {},
   "outputs": [
    {
     "data": {
      "text/plain": [
       "'\\nPort Scanner is built on Python 3 and uses some extra libraries such as socket and pyfiglet\\nThe Scanner class is used to get user input\\n'"
      ]
     },
     "execution_count": 30,
     "metadata": {},
     "output_type": "execute_result"
    }
   ],
   "source": [
    "#Q10\n",
    "\"\"\"\n",
    "Port Scanner is built on Python 3 and uses some extra libraries such as socket and pyfiglet\n",
    "The Scanner class is used to get user input\n",
    "\"\"\""
   ]
  },
  {
   "cell_type": "code",
   "execution_count": null,
   "id": "467dacb2",
   "metadata": {},
   "outputs": [],
   "source": []
  }
 ],
 "metadata": {
  "kernelspec": {
   "display_name": "Python 3 (ipykernel)",
   "language": "python",
   "name": "python3"
  },
  "language_info": {
   "codemirror_mode": {
    "name": "ipython",
    "version": 3
   },
   "file_extension": ".py",
   "mimetype": "text/x-python",
   "name": "python",
   "nbconvert_exporter": "python",
   "pygments_lexer": "ipython3",
   "version": "3.9.12"
  }
 },
 "nbformat": 4,
 "nbformat_minor": 5
}
