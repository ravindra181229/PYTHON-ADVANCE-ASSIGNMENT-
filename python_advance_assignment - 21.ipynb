{
 "cells": [
  {
   "cell_type": "markdown",
   "id": "d0c57e18",
   "metadata": {},
   "source": [
    "# python_advance_assignment - 21"
   ]
  },
  {
   "cell_type": "code",
   "execution_count": 2,
   "id": "0212e046",
   "metadata": {},
   "outputs": [
    {
     "data": {
      "text/plain": [
       "'\\nThe probability distribution for a discrete random variable X can be represented by a formula, a table, or a graph, which provides p(x) = P(X=x) for all x. \\nThe probability distribution for a discrete random variable assigns nonzero probabilities to only a countable number of distinct x values\\n'"
      ]
     },
     "execution_count": 2,
     "metadata": {},
     "output_type": "execute_result"
    }
   ],
   "source": [
    "#Q1\n",
    "\"\"\"\n",
    "The probability distribution for a discrete random variable X can be represented by a formula, a table, or a graph, which provides p(x) = P(X=x) for all x. \n",
    "The probability distribution for a discrete random variable assigns nonzero probabilities to only a countable number of distinct x values\n",
    "\"\"\""
   ]
  },
  {
   "cell_type": "code",
   "execution_count": 5,
   "id": "10f3bbf5",
   "metadata": {},
   "outputs": [
    {
     "data": {
      "text/plain": [
       "\"\\nTRNGs (True random number generators) use an unpredictable physical means to generate numbers (like atmospheric noise), and \\nPRNGs (pseudo random number generators) use mathematical algorithms (completely computer-generated)\\n\\nBecause usually pseudo-random numbers are good enough. You usually don't need true randomness for most applications. What you need is unpredictability.\\n\""
      ]
     },
     "execution_count": 5,
     "metadata": {},
     "output_type": "execute_result"
    }
   ],
   "source": [
    "#Q2\n",
    "\"\"\"\n",
    "TRNGs (True random number generators) use an unpredictable physical means to generate numbers (like atmospheric noise), and \n",
    "PRNGs (pseudo random number generators) use mathematical algorithms (completely computer-generated)\n",
    "\n",
    "Because usually pseudo-random numbers are good enough. You usually don't need true randomness for most applications. What you need is unpredictability.\n",
    "\"\"\""
   ]
  },
  {
   "cell_type": "code",
   "execution_count": 8,
   "id": "1fc420fc",
   "metadata": {},
   "outputs": [
    {
     "data": {
      "text/plain": [
       "'\\nmean and standard deviation\\n'"
      ]
     },
     "execution_count": 8,
     "metadata": {},
     "output_type": "execute_result"
    }
   ],
   "source": [
    "#Q3\n",
    "\"\"\"\n",
    "mean and standard deviation\n",
    "\"\"\""
   ]
  },
  {
   "cell_type": "code",
   "execution_count": 10,
   "id": "23ef088c",
   "metadata": {},
   "outputs": [
    {
     "data": {
      "text/plain": [
       "'\\nRolling A Dice\\n'"
      ]
     },
     "execution_count": 10,
     "metadata": {},
     "output_type": "execute_result"
    }
   ],
   "source": [
    "#Q4\n",
    "\"\"\"\n",
    "Rolling A Dice\n",
    "\"\"\""
   ]
  },
  {
   "cell_type": "code",
   "execution_count": 16,
   "id": "3496bc8b",
   "metadata": {},
   "outputs": [
    {
     "data": {
      "text/plain": [
       "'\\nA probability distribution is a statistical function that describes all the possible values and likelihoods that a random variable can take within a given range.\\n\\nhe weighted average of possible values of a random variable, with weights given by their respective theoretical probabilities, is known as the expected value\\n\\n>> As the number of trials in a binomial experiment increases, the probability distribution becomes bell-shaped\\n'"
      ]
     },
     "execution_count": 16,
     "metadata": {},
     "output_type": "execute_result"
    }
   ],
   "source": [
    "#Q5\n",
    "\"\"\"\n",
    "A probability distribution is a statistical function that describes all the possible values and likelihoods that a random variable can take within a given range.\n",
    "\n",
    "he weighted average of possible values of a random variable, with weights given by their respective theoretical probabilities, is known as the expected value\n",
    "\n",
    ">> As the number of trials in a binomial experiment increases, the probability distribution becomes bell-shaped\n",
    "\"\"\""
   ]
  },
  {
   "cell_type": "code",
   "execution_count": 19,
   "id": "52d283e1",
   "metadata": {},
   "outputs": [
    {
     "data": {
      "text/plain": [
       "'\\nStrings and tuples are immutable, so random.shuffle() that modifies the original object raises an error TypeError\\nTo shuffle strings or tuples, use random.\\n'"
      ]
     },
     "execution_count": 19,
     "metadata": {},
     "output_type": "execute_result"
    }
   ],
   "source": [
    "#Q6\n",
    "\"\"\"\n",
    "Strings and tuples are immutable, so random.shuffle() that modifies the original object raises an error TypeError\n",
    "To shuffle strings or tuples, use random.\n",
    "\"\"\""
   ]
  },
  {
   "cell_type": "code",
   "execution_count": 20,
   "id": "4d742566",
   "metadata": {},
   "outputs": [
    {
     "data": {
      "text/plain": [
       "'\\nThe math module is used to access mathematical functions in the Python. \\nAll methods of this functions are used for integer or real type objects, not for complex numbers.\\npow(x,y), sqrt(x), acos(x), asin(x) etc\\n'"
      ]
     },
     "execution_count": 20,
     "metadata": {},
     "output_type": "execute_result"
    }
   ],
   "source": [
    "#Q7\n",
    "\"\"\"\n",
    "The math module is used to access mathematical functions in the Python. \n",
    "All methods of this functions are used for integer or real type objects, not for complex numbers.\n",
    "pow(x,y), sqrt(x), acos(x), asin(x) etc\n",
    "\"\"\""
   ]
  },
  {
   "cell_type": "code",
   "execution_count": 23,
   "id": "f9e03bb7",
   "metadata": {},
   "outputs": [
    {
     "data": {
      "text/plain": [
       "'\\nLogarithmic functions are the inverses of exponential functions. The inverse of the exponential function y = ax is x = ay. \\nThe logarithmic function y = logax is defined to be equivalent to the exponential equation x = ay.\\n'"
      ]
     },
     "execution_count": 23,
     "metadata": {},
     "output_type": "execute_result"
    }
   ],
   "source": [
    "#Q8\n",
    "\"\"\"\n",
    "Logarithmic functions are the inverses of exponential functions. The inverse of the exponential function y = ax is x = ay. \n",
    "The logarithmic function y = logax is defined to be equivalent to the exponential equation x = ay.\n",
    "\"\"\""
   ]
  },
  {
   "cell_type": "code",
   "execution_count": 26,
   "id": "80b90233",
   "metadata": {},
   "outputs": [
    {
     "data": {
      "text/plain": [
       "'\\nlog2(x) log(x, Base) log10(x) log1p(x)\\n'"
      ]
     },
     "execution_count": 26,
     "metadata": {},
     "output_type": "execute_result"
    }
   ],
   "source": [
    "#Q9\n",
    "\"\"\"\n",
    "log2(x) log(x, Base) log10(x) log1p(x)\n",
    "\"\"\""
   ]
  },
  {
   "cell_type": "code",
   "execution_count": null,
   "id": "a9e4cad1",
   "metadata": {},
   "outputs": [],
   "source": []
  }
 ],
 "metadata": {
  "kernelspec": {
   "display_name": "Python 3 (ipykernel)",
   "language": "python",
   "name": "python3"
  },
  "language_info": {
   "codemirror_mode": {
    "name": "ipython",
    "version": 3
   },
   "file_extension": ".py",
   "mimetype": "text/x-python",
   "name": "python",
   "nbconvert_exporter": "python",
   "pygments_lexer": "ipython3",
   "version": "3.9.12"
  }
 },
 "nbformat": 4,
 "nbformat_minor": 5
}
