{
 "cells": [
  {
   "cell_type": "markdown",
   "id": "bf356591",
   "metadata": {},
   "source": [
    "# python_advance_assignmnet - 18"
   ]
  },
  {
   "cell_type": "code",
   "execution_count": 2,
   "id": "b40039de",
   "metadata": {},
   "outputs": [
    {
     "data": {
      "text/plain": [
       "\"\\nText files are organized around lines, each of which ends with a newline character ('\\n'). The source code files are themselves text files\\nA binary file is the one in which data is stored in the file in the same way as it is stored in the main memory for processing\\n\""
      ]
     },
     "execution_count": 2,
     "metadata": {},
     "output_type": "execute_result"
    }
   ],
   "source": [
    "#Q1\n",
    "\"\"\"\n",
    "Text files are organized around lines, each of which ends with a newline character ('\\n'). The source code files are themselves text files\n",
    "A binary file is the one in which data is stored in the file in the same way as it is stored in the main memory for processing\n",
    "\"\"\""
   ]
  },
  {
   "cell_type": "code",
   "execution_count": 4,
   "id": "dd5f7423",
   "metadata": {},
   "outputs": [
    {
     "data": {
      "text/plain": [
       "'\\nWhen file does need to be read by people or need to be ported to a different type of system text files should be preferred.\\n\\nA binary file is the one in which data is stored in the file in the same way as it is stored in the main memory for processing. It is stored in binary format instead of ASCII characters. \\nIt is normally used for storing numeric information (int, float, double)\\n'"
      ]
     },
     "execution_count": 4,
     "metadata": {},
     "output_type": "execute_result"
    }
   ],
   "source": [
    "#Q2\n",
    "\"\"\"\n",
    "When file does need to be read by people or need to be ported to a different type of system text files should be preferred.\n",
    "\n",
    "A binary file is the one in which data is stored in the file in the same way as it is stored in the main memory for processing. It is stored in binary format instead of ASCII characters. \n",
    "It is normally used for storing numeric information (int, float, double)\n",
    "\"\"\""
   ]
  },
  {
   "cell_type": "code",
   "execution_count": 36,
   "id": "cbc2e564",
   "metadata": {},
   "outputs": [
    {
     "data": {
      "text/plain": [
       "'\\nThe major disadvantage of binary number is difficult to read and write for humans because of large number of binary of a equivalent decimal number\\nwe we read a file as an integer , python reads them as characters and returns a string,which cannot be converted into an integer.\\n'"
      ]
     },
     "execution_count": 36,
     "metadata": {},
     "output_type": "execute_result"
    }
   ],
   "source": [
    "#Q3\n",
    "\"\"\"\n",
    "The major disadvantage of binary number is difficult to read and write for humans because of large number of binary of a equivalent decimal number\n",
    "we we read a file as an integer , python reads them as characters and returns a string,which cannot be converted into an integer.\n",
    "\"\"\""
   ]
  },
  {
   "cell_type": "code",
   "execution_count": 9,
   "id": "b42ee3a6",
   "metadata": {},
   "outputs": [
    {
     "data": {
      "text/plain": [
       "'\\nUsing with means that the file will be closed as soon as you leave the block. \\nThis is beneficial because closing a file is something that can easily be forgotten and ties up resources that you no longer need.\\n'"
      ]
     },
     "execution_count": 9,
     "metadata": {},
     "output_type": "execute_result"
    }
   ],
   "source": [
    "#Q4\n",
    "\"\"\"\n",
    "Using with means that the file will be closed as soon as you leave the block. \n",
    "This is beneficial because closing a file is something that can easily be forgotten and ties up resources that you no longer need.\n",
    "\"\"\""
   ]
  },
  {
   "cell_type": "code",
   "execution_count": 14,
   "id": "6be0dad3",
   "metadata": {},
   "outputs": [
    {
     "data": {
      "text/plain": [
       "'\\nThe new line character in Python is \\n . It is used to indicate the end of a line of text.\\nYou can print strings without adding a new line with end = <character> , which <character> is the character that will be used to separate the lines.\\n\\nIt appends a newline (“\\n”) at the end of the line.\\nThe default value of the end parameter of the built-in print function is \\n ,so a new line character is appended to the string\\n'"
      ]
     },
     "execution_count": 14,
     "metadata": {},
     "output_type": "execute_result"
    }
   ],
   "source": [
    "#Q5\n",
    "\"\"\"\n",
    "The new line character in Python is \\n . It is used to indicate the end of a line of text.\n",
    "You can print strings without adding a new line with end = <character> , which <character> is the character that will be used to separate the lines.\n",
    "\n",
    "It appends a newline (“\\n”) at the end of the line.\n",
    "The default value of the end parameter of the built-in print function is \\n ,so a new line character is appended to the string\n",
    "\"\"\""
   ]
  },
  {
   "cell_type": "code",
   "execution_count": 16,
   "id": "bb3f76c4",
   "metadata": {},
   "outputs": [
    {
     "data": {
      "text/plain": [
       "'\\nseekable()\\n'"
      ]
     },
     "execution_count": 16,
     "metadata": {},
     "output_type": "execute_result"
    }
   ],
   "source": [
    "#Q6\n",
    "\"\"\"\n",
    "seekable()\n",
    "\"\"\""
   ]
  },
  {
   "cell_type": "code",
   "execution_count": 20,
   "id": "68aece9f",
   "metadata": {},
   "outputs": [
    {
     "data": {
      "text/plain": [
       "'\\nThe struct module in Python is used to convert native Python data types such as strings and numbers into a string of bytes and vice versa.\\nWhat this means is that users can parse binary files of data stored in C structs in Python\\n'"
      ]
     },
     "execution_count": 20,
     "metadata": {},
     "output_type": "execute_result"
    }
   ],
   "source": [
    "#Q7\n",
    "\"\"\"\n",
    "The struct module in Python is used to convert native Python data types such as strings and numbers into a string of bytes and vice versa.\n",
    "What this means is that users can parse binary files of data stored in C structs in Python\n",
    "\"\"\""
   ]
  },
  {
   "cell_type": "code",
   "execution_count": 24,
   "id": "1af814d4",
   "metadata": {},
   "outputs": [
    {
     "data": {
      "text/plain": [
       "\"\\nPickle in Python is primarily used in serializing and deserializing a Python object structure. \\nIn other words, it's the process of converting a Python object into a byte stream to store it in a file/database, maintain program state across sessions, or transport data over the network.\\n\""
      ]
     },
     "execution_count": 24,
     "metadata": {},
     "output_type": "execute_result"
    }
   ],
   "source": [
    "#Q8\n",
    "\"\"\"\n",
    "Pickle in Python is primarily used in serializing and deserializing a Python object structure. \n",
    "In other words, it's the process of converting a Python object into a byte stream to store it in a file/database, maintain program state across sessions, or transport data over the network.\n",
    "\"\"\""
   ]
  },
  {
   "cell_type": "code",
   "execution_count": 29,
   "id": "f43f04dc",
   "metadata": {},
   "outputs": [
    {
     "data": {
      "text/plain": [
       "\"\\nThe shelve module in Python's standard library is a simple yet effective tool for persistent data storage when using a relational database solution is not required. \\nThe shelf object defined in this module is dictionary-like object which is persistently stored in a disk file\\n\\n>> The shelve module can be used as a simple persistent storage option for Python objects when a relational database is overkill.\\n\""
      ]
     },
     "execution_count": 29,
     "metadata": {},
     "output_type": "execute_result"
    }
   ],
   "source": [
    "#Q9\n",
    "\"\"\"\n",
    "The shelve module in Python's standard library is a simple yet effective tool for persistent data storage when using a relational database solution is not required. \n",
    "The shelf object defined in this module is dictionary-like object which is persistently stored in a disk file\n",
    "\n",
    ">> The shelve module can be used as a simple persistent storage option for Python objects when a relational database is overkill.\n",
    "\"\"\""
   ]
  },
  {
   "cell_type": "code",
   "execution_count": 32,
   "id": "86efa004",
   "metadata": {},
   "outputs": [
    {
     "data": {
      "text/plain": [
       "'\\nThe shelf dictionary has certain restrictions. Only string data type can be used as key in this special dictionary object,\\nwhereas any picklable Python object can be used as value.\\n'"
      ]
     },
     "execution_count": 32,
     "metadata": {},
     "output_type": "execute_result"
    }
   ],
   "source": [
    "#Q10\n",
    "\"\"\"\n",
    "The shelf dictionary has certain restrictions. Only string data type can be used as key in this special dictionary object,\n",
    "whereas any picklable Python object can be used as value.\n",
    "\"\"\""
   ]
  },
  {
   "cell_type": "code",
   "execution_count": null,
   "id": "e8e1142d",
   "metadata": {},
   "outputs": [],
   "source": []
  }
 ],
 "metadata": {
  "kernelspec": {
   "display_name": "Python 3 (ipykernel)",
   "language": "python",
   "name": "python3"
  },
  "language_info": {
   "codemirror_mode": {
    "name": "ipython",
    "version": 3
   },
   "file_extension": ".py",
   "mimetype": "text/x-python",
   "name": "python",
   "nbconvert_exporter": "python",
   "pygments_lexer": "ipython3",
   "version": "3.9.12"
  }
 },
 "nbformat": 4,
 "nbformat_minor": 5
}
