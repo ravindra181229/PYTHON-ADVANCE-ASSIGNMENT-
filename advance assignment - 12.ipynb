{
 "cells": [
  {
   "cell_type": "code",
   "execution_count": 9,
   "id": "dabdaf1d",
   "metadata": {},
   "outputs": [
    {
     "data": {
      "text/plain": [
       "'strings are immutable\\nthe best way we can do is create a new string that is a variation on the original'"
      ]
     },
     "execution_count": 9,
     "metadata": {},
     "output_type": "execute_result"
    }
   ],
   "source": [
    "#Q1\n",
    "'''strings are immutable\n",
    "the best way we can do is create a new string that is a variation on the original'''"
   ]
  },
  {
   "cell_type": "code",
   "execution_count": 20,
   "id": "d10b49cc",
   "metadata": {},
   "outputs": [
    {
     "data": {
      "text/plain": [
       "\"+= string operation violates the python's string immutability\\nbecause the The new value is supposed to be created before the assignment happens,\\nand the old value's lifetime only ends once the new value is assigned to the variable\""
      ]
     },
     "execution_count": 20,
     "metadata": {},
     "output_type": "execute_result"
    }
   ],
   "source": [
    "#Q2\n",
    "'''+= string operation violates the python's string immutability\n",
    "because the The new value is supposed to be created before the assignment happens,\n",
    "and the old value's lifetime only ends once the new value is assigned to the variable'''"
   ]
  },
  {
   "cell_type": "code",
   "execution_count": 11,
   "id": "47f2e415",
   "metadata": {},
   "outputs": [
    {
     "data": {
      "text/plain": [
       "'there are 2 ways\\naccessing characters by positive index number\\naccessing characters by negative index number'"
      ]
     },
     "execution_count": 11,
     "metadata": {},
     "output_type": "execute_result"
    }
   ],
   "source": [
    "#Q3\n",
    "'''there are 2 ways\n",
    "accessing characters by positive index number\n",
    "accessing characters by negative index number'''"
   ]
  },
  {
   "cell_type": "code",
   "execution_count": 12,
   "id": "105c672a",
   "metadata": {},
   "outputs": [
    {
     "data": {
      "text/plain": [
       "'indexing means pointing to an element by its position\\nslicing means getting a subset of an element based on their indices'"
      ]
     },
     "execution_count": 12,
     "metadata": {},
     "output_type": "execute_result"
    }
   ],
   "source": [
    "#Q4\n",
    "'''indexing means pointing to an element by its position\n",
    "slicing means getting a subset of an element based on their indices'''"
   ]
  },
  {
   "cell_type": "code",
   "execution_count": 22,
   "id": "a777b3bd",
   "metadata": {},
   "outputs": [
    {
     "data": {
      "text/plain": [
       "'char\\nYourString[StartingIndex:StoppingIndex:CharactersToSkip]'"
      ]
     },
     "execution_count": 22,
     "metadata": {},
     "output_type": "execute_result"
    }
   ],
   "source": [
    "#Q5\n",
    "'''char\n",
    "YourString[StartingIndex:StoppingIndex:CharactersToSkip]'''"
   ]
  },
  {
   "cell_type": "code",
   "execution_count": 14,
   "id": "edfba4a2",
   "metadata": {},
   "outputs": [
    {
     "data": {
      "text/plain": [
       "'strings are arrays of bytes representing unicode characters\\ncharacter does not have a data type'"
      ]
     },
     "execution_count": 14,
     "metadata": {},
     "output_type": "execute_result"
    }
   ],
   "source": [
    "#Q6\n",
    "\"\"\"strings are arrays of bytes representing unicode characters\n",
    "character does not have a data type\"\"\""
   ]
  },
  {
   "cell_type": "code",
   "execution_count": 15,
   "id": "07d0993a",
   "metadata": {},
   "outputs": [
    {
     "data": {
      "text/plain": [
       "'+ and * oparators\\njoin() method'"
      ]
     },
     "execution_count": 15,
     "metadata": {},
     "output_type": "execute_result"
    }
   ],
   "source": [
    "#Q7\n",
    "'''+ and * oparators\n",
    "join() method''' "
   ]
  },
  {
   "cell_type": "code",
   "execution_count": 16,
   "id": "4e6e6b41",
   "metadata": {},
   "outputs": [
    {
     "data": {
      "text/plain": [
       "'AND , OR , NOT '"
      ]
     },
     "execution_count": 16,
     "metadata": {},
     "output_type": "execute_result"
    }
   ],
   "source": [
    "#Q9\n",
    "\"\"\"AND , OR , NOT \"\"\""
   ]
  },
  {
   "cell_type": "code",
   "execution_count": null,
   "id": "89f2db08",
   "metadata": {},
   "outputs": [],
   "source": []
  },
  {
   "cell_type": "code",
   "execution_count": null,
   "id": "a0035ea8",
   "metadata": {},
   "outputs": [],
   "source": []
  }
 ],
 "metadata": {
  "kernelspec": {
   "display_name": "Python 3",
   "language": "python",
   "name": "python3"
  },
  "language_info": {
   "codemirror_mode": {
    "name": "ipython",
    "version": 3
   },
   "file_extension": ".py",
   "mimetype": "text/x-python",
   "name": "python",
   "nbconvert_exporter": "python",
   "pygments_lexer": "ipython3",
   "version": "3.8.8"
  }
 },
 "nbformat": 4,
 "nbformat_minor": 5
}
