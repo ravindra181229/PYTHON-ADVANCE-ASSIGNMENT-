{
 "cells": [
  {
   "cell_type": "code",
   "execution_count": 1,
   "id": "5da4930d",
   "metadata": {},
   "outputs": [
    {
     "data": {
      "text/plain": [
       "'metaclass is a class whose instances are classes\\na metaclass defines the behaviour of certain classes and their instances'"
      ]
     },
     "execution_count": 1,
     "metadata": {},
     "output_type": "execute_result"
    }
   ],
   "source": [
    "#Q1\n",
    "'''metaclass is a class whose instances are classes\n",
    "a metaclass defines the behaviour of certain classes and their instances'''"
   ]
  },
  {
   "cell_type": "code",
   "execution_count": 2,
   "id": "acf9e282",
   "metadata": {},
   "outputs": [
    {
     "data": {
      "text/plain": [
       "'by adding __metaclass__ attribute whenever we write a class'"
      ]
     },
     "execution_count": 2,
     "metadata": {},
     "output_type": "execute_result"
    }
   ],
   "source": [
    "#Q2\n",
    "'''by adding __metaclass__ attribute whenever we write a class'''"
   ]
  },
  {
   "cell_type": "code",
   "execution_count": 6,
   "id": "cefbd884",
   "metadata": {},
   "outputs": [
    {
     "data": {
      "text/plain": [
       "'class decorators sometimes overlap metaclass in terms of functionality\\nclass decorators can augment classes independent of any created instances'"
      ]
     },
     "execution_count": 6,
     "metadata": {},
     "output_type": "execute_result"
    }
   ],
   "source": [
    "#Q3\n",
    "'''class decorators sometimes overlap metaclass in terms of functionality\n",
    "class decorators can augment classes independent of any created instances'''"
   ]
  },
  {
   "cell_type": "code",
   "execution_count": 10,
   "id": "d6d9606d",
   "metadata": {},
   "outputs": [
    {
     "data": {
      "text/plain": [
       "'decorators return the original class , instances are made from it \\ndecorators can be used both instances and classes and they intersect with metaclasses'"
      ]
     },
     "execution_count": 10,
     "metadata": {},
     "output_type": "execute_result"
    }
   ],
   "source": [
    "#Q4\n",
    "\"\"\"decorators return the original class , instances are made from it \n",
    "decorators can be used both instances and classes and they intersect with metaclasses\"\"\""
   ]
  },
  {
   "cell_type": "code",
   "execution_count": null,
   "id": "1c4769cc",
   "metadata": {},
   "outputs": [],
   "source": []
  }
 ],
 "metadata": {
  "kernelspec": {
   "display_name": "Python 3",
   "language": "python",
   "name": "python3"
  },
  "language_info": {
   "codemirror_mode": {
    "name": "ipython",
    "version": 3
   },
   "file_extension": ".py",
   "mimetype": "text/x-python",
   "name": "python",
   "nbconvert_exporter": "python",
   "pygments_lexer": "ipython3",
   "version": "3.8.8"
  }
 },
 "nbformat": 4,
 "nbformat_minor": 5
}
