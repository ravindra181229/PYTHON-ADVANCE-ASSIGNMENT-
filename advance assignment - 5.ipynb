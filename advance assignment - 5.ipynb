{
 "cells": [
  {
   "cell_type": "code",
   "execution_count": 1,
   "id": "9fb41375",
   "metadata": {},
   "outputs": [
    {
     "data": {
      "text/plain": [
       "'when a class is derived from more than one base class than it is called as multiple inheritance'"
      ]
     },
     "execution_count": 1,
     "metadata": {},
     "output_type": "execute_result"
    }
   ],
   "source": [
    "#Q1\n",
    "'''when a class is derived from more than one base class than it is called as multiple inheritance'''"
   ]
  },
  {
   "cell_type": "code",
   "execution_count": 13,
   "id": "f9329ac9",
   "metadata": {},
   "outputs": [
    {
     "data": {
      "text/plain": [
       "'delegation is a object oriented technique that represents references to methods with a particular parameter list and return type'"
      ]
     },
     "execution_count": 13,
     "metadata": {},
     "output_type": "execute_result"
    }
   ],
   "source": [
    "#Q2\n",
    "'''delegation is a object oriented technique that represents references to methods with a particular parameter list and return type'''"
   ]
  },
  {
   "cell_type": "code",
   "execution_count": 7,
   "id": "2719d297",
   "metadata": {},
   "outputs": [
    {
     "data": {
      "text/plain": [
       "'composition is a concept that models a has a relationship it enables creating complex types by\\ncombining objects of other type. the class composite can contain an object of another class component'"
      ]
     },
     "execution_count": 7,
     "metadata": {},
     "output_type": "execute_result"
    }
   ],
   "source": [
    "#Q3\n",
    "'''composition is a concept that models a has a relationship it enables creating complex types by\n",
    "combining objects of other type. the class composite can contain an object of another class component'''"
   ]
  },
  {
   "cell_type": "code",
   "execution_count": 8,
   "id": "5907fb69",
   "metadata": {},
   "outputs": [
    {
     "data": {
      "text/plain": [
       "'a bound method depends on the instance of the class as the first argument\\nIt passes the instance as the first argument which is used to access the variables and functions'"
      ]
     },
     "execution_count": 8,
     "metadata": {},
     "output_type": "execute_result"
    }
   ],
   "source": [
    "#Q4\n",
    "'''a bound method depends on the instance of the class as the first argument\n",
    "It passes the instance as the first argument which is used to access the variables and functions'''"
   ]
  },
  {
   "cell_type": "code",
   "execution_count": 12,
   "id": "83a5884c",
   "metadata": {},
   "outputs": [
    {
     "data": {
      "text/plain": [
       "'its just a way to localize a name to the class that created it.\\nit does not prevent access by code outside the class\\nit is intended to avoid namespace collision in instances'"
      ]
     },
     "execution_count": 12,
     "metadata": {},
     "output_type": "execute_result"
    }
   ],
   "source": [
    "#Q5\n",
    "'''its just a way to localize a name to the class that created it.\n",
    "it does not prevent access by code outside the class\n",
    "it is intended to avoid namespace collision in instances'''"
   ]
  },
  {
   "cell_type": "code",
   "execution_count": null,
   "id": "ccb9e370",
   "metadata": {},
   "outputs": [],
   "source": []
  }
 ],
 "metadata": {
  "kernelspec": {
   "display_name": "Python 3",
   "language": "python",
   "name": "python3"
  },
  "language_info": {
   "codemirror_mode": {
    "name": "ipython",
    "version": 3
   },
   "file_extension": ".py",
   "mimetype": "text/x-python",
   "name": "python",
   "nbconvert_exporter": "python",
   "pygments_lexer": "ipython3",
   "version": "3.8.8"
  }
 },
 "nbformat": 4,
 "nbformat_minor": 5
}
